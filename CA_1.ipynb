{
 "cells": [
  {
   "cell_type": "markdown",
   "id": "5e03f9a7",
   "metadata": {},
   "source": [
    "## Task:\n",
    "1. Read file\n",
    "2. Explore file (EDA) \n",
    "3. Statisctical analysis\n",
    "4. Data cleaning if needed."
   ]
  },
  {
   "cell_type": "markdown",
   "id": "46b57424",
   "metadata": {},
   "source": [
    "# Video_Games_Sales_ Analysis "
   ]
  },
  {
   "attachments": {},
   "cell_type": "markdown",
   "id": "f53c54b9",
   "metadata": {},
   "source": [
    "***Note: Explain using CRIPS-DM methodology for project implementation***\n",
    "# 1 Introduction \n",
    "### 1.1 What is data\n",
    "Data are plain facts gathered within a defined context. Statistians would refer to it as a set of obsevations contained in variables or columns of varying/unique characteristics. Data can also be referred to as a piece of information after it has been summarised, and when subjected to analysis, data can be referred to as evidence of a hypothesis. Before data can become information and utilmately evidence it must go through a process. Data analysis is the process in which raw data is ordered and organized, to be used in methods that help to explain the past and predict the future (Hector, 2013). \n",
    "\n",
    "While data analytics as a science does not have a predefined methodolgy as each dataset and context is diffrent, generally, the process of turning raw data into actionable insight can be expected to include early data analysis (EDA), descriptive analysis, statistical analysis, diagonistic analysis and prescriptive analysis. With all this in mind, regadless of the domain, there is always an ultimate goal that most analytical project seek to achieve from a dataset, which is to derive actionable insight and communicate those insight it to help decision makers such as statekholders make informed decision about the context in which the data had been gathered. Most of the time this decision makers are not data experts. While as data professionals, we should be very informed and intrested in the subtle details of analytical methodology, there is a clear gap between the infomation we seek to communicate and the ability of those that need these informations to understnd them, most of the time due to lack technical background to understand these methodologies.  This is where Data visualisation come into play. It is logically safe to assume that putting trends and insight in pictural form will be more informative than telling numbers or texts. At the end of the day, a good data analytics implementation should provide a clear picture of where an organisation for example is, where they have been and predict where they are heading to (UCDPA,2024), data visualisation is a tool that can be used to communicate this. \n",
    "\n",
    "\n",
    "### 1.2 Data Visualisation\n",
    "Data visualisation is the graphical representation of raw or processed data (Ravikiran, 2023). It is the brach of data-analytics that involve using visual elements like charts, graphs, and maps, to enhance the understanding of trends and pattern in data (CCT college, 2024).\n",
    "\n",
    "Data visualisation uses is not only limited to commnicating insight, it is also useful for data cleaning: for example when idenfying out of trend data, exploration of data structures, outlier detection: for example visually identfy data that are out of range of the remain overall observation, clustering and pattern discovery, evaluation of modeling results, and presenting findings (Unwin, 2020).\n",
    "#### [Data vis not over] Remaing: \n",
    "1. Importance of DV to overall DA goal\n",
    "2. DV in python, breifly explain py viz liabraries\n",
    "3. Introduce project breifly and whe DV come in play here \n",
    "\n",
    "### 1.3 Problem Definition\n",
    "The domain of this project is a retail company and the context is to analyse data collected on the sales of video games. Comapny wants an analysis that help to determine the sales strategy for the company in their upcoming Winter season based on insight found in their sales record, collected inform of a comma separated version(csv) data file. All implementation must be in a jupyternotebook. Justifucation for all method must be provide usinf markdown\n",
    "\n",
    "### 1.4 Objective\n",
    "1. Read csv file in pandas and explore dataset in it raw form using pandas.\n",
    "2. Perform EDA and statistical analysis\n",
    "3. Answer project question using appropriate plot and justify \n",
    "4. Rationalize all the decisions made in Jupyter Notebook report for companies CTO.\n",
    "5. Provide a detail conclusion.\n",
    "\n",
    "### 1.5 May have Objective\n",
    "1. Using appropriate machien learning algorithm, perform predictive analysis "
   ]
  },
  {
   "cell_type": "markdown",
   "id": "b2844e07",
   "metadata": {},
   "source": [
    "#### ReadIng csv file with pandas and exploring dataset in it raw form."
   ]
  },
  {
   "cell_type": "code",
   "execution_count": 1,
   "id": "c00a9517",
   "metadata": {},
   "outputs": [],
   "source": [
    "import pandas as pd\n",
    "import numpy as np\n",
    "import matplotlib.pyplot as plt\n",
    "import seaborn as sns\n",
    "#import warnings\n",
    "#warnings.filterwarnings('ignore')"
   ]
  },
  {
   "cell_type": "code",
   "execution_count": null,
   "id": "646938eb",
   "metadata": {},
   "outputs": [],
   "source": [
    "df = pd.read_csv('')"
   ]
  }
 ],
 "metadata": {
  "kernelspec": {
   "display_name": "Python 3 (ipykernel)",
   "language": "python",
   "name": "python3"
  },
  "language_info": {
   "codemirror_mode": {
    "name": "ipython",
    "version": 3
   },
   "file_extension": ".py",
   "mimetype": "text/x-python",
   "name": "python",
   "nbconvert_exporter": "python",
   "pygments_lexer": "ipython3",
   "version": "3.11.4"
  }
 },
 "nbformat": 4,
 "nbformat_minor": 5
}
