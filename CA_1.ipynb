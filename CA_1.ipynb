{
 "cells": [
  {
   "cell_type": "markdown",
   "id": "5e03f9a7",
   "metadata": {},
   "source": [
    "## Task:\n",
    "1. Read file\n",
    "2. Explore file (EDA) \n",
    "3. Statisctical analysis\n",
    "4. Data cleaning if needed."
   ]
  },
  {
   "cell_type": "markdown",
   "id": "351bed53",
   "metadata": {},
   "source": [
    "# Video_Games_Sales_ Analysis "
   ]
  },
  {
   "cell_type": "markdown",
   "id": "fea14a04",
   "metadata": {},
   "source": [
    "# 1 : Introduction \n",
    "### 1.1 What is data\n",
    "Data are plain facts gathered within a defined context. Statistians would refer to it as a set of obsevations contained in variables or columns of varying/unique characteristics. Data can also be referred to as a piece of information after it has been summarised, and when subjected to analysis, data can be referred to as evidence of a hypothesis. Before data can become information and utilmately evidence it must go through a process. Data analysis is the process in which raw data is ordered and organized, to be used in methods that help to explain the past and predict the future (Hector, 2013). \n",
    "\n",
    "While data analytics as a science does not have a predefined methodolgy as each dataset and context is diffrent, generally, the process of turning raw data into actionable insight can be expected to include early data analysis (EDA), descriptive analysis, statistical analysis, diagonistic analysis and prescriptive analysis. With all this in mind, regadless of the domain, there is always an ultimate goal that most analytical project seek to achieve from a dataset, which is to derive actionable insight and communicate those insight it to help decision makers such as statekholders make informed decision about the context in which the data had been gathered. Most of the time this decision makers are not data experts. While as data professionals, we should be very informed and intrested in the subtle details of analytical methodology, there is a clear gap between the infomation we seek to communicate and the ability of those that need these informations to understnd them, most of the time due to lack technical background to understand these methodologies.  This is where Data visualisation come into play.\n",
    "\n",
    "\n",
    " "
   ]
  }
 ],
 "metadata": {
  "kernelspec": {
   "display_name": "Python 3 (ipykernel)",
   "language": "python",
   "name": "python3"
  },
  "language_info": {
   "codemirror_mode": {
    "name": "ipython",
    "version": 3
   },
   "file_extension": ".py",
   "mimetype": "text/x-python",
   "name": "python",
   "nbconvert_exporter": "python",
   "pygments_lexer": "ipython3",
   "version": "3.11.4"
  }
 },
 "nbformat": 4,
 "nbformat_minor": 5
}
