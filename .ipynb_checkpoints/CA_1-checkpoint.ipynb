{
 "cells": [
  {
   "cell_type": "markdown",
   "id": "5e03f9a7",
   "metadata": {},
   "source": [
    "## Task:\n",
    "1. Read file\n",
    "2. Explore file (EDA) \n",
    "3. Statisctical analysis\n",
    "4. Data cleaning if needed."
   ]
  },
  {
   "cell_type": "markdown",
   "id": "2e578e68",
   "metadata": {},
   "source": [
    "# Video_Games_Sales_ Analysis "
   ]
  },
  {
   "cell_type": "markdown",
   "id": "2c71623b",
   "metadata": {},
   "source": [
    "***Note: Explain using CRIPS-DM methodology for project implementation***\n",
    "# 1 Introduction \n",
    "### 1.1 What is data\n",
    "A data is a compilation of plain facts that have been gathered within a defined context. Statistians would refer to it as a set of obsevations contained in variables or columns of varying/unique characteristics. Data can also be referred to as a piece of information after it has been summarised, and when subjected to analysis, data can be referred to as evidence of a hypothesis. Before data can become information and utilmately evidence it must go through a process. Data analysis is the process in which raw data is ordered and organized, to be used in methods that help to explain the past and predict the future (Hector, 2013). \n",
    "\n",
    "While data analytics as a science does not have a predefined methodolgy as each dataset and context is diffrent, generally, the process of turning raw data into actionable insight can be expected to include early data analysis (EDA), descriptive analysis, statistical analysis, diagonistic analysis, predictive analysis and prescriptive analysis. With all this in mind, regadless of the domain, there is always an ultimate goal that most analytical project seek to achieve from a dataset, which is to derive actionable insight and communicate those insight to help decision makers such as statekholders make informed decision about the context in which the data had been gathered. Most of the time this decision makers are not data experts. While as data professionals, we should be very informed and intrested in the subtle details of analytical methodology, there is a clear gap between the infomation we seek to communicate and the ability of those that need these informations to understand them, most of the time due to lack technical background to understand these methodologies.  This is where Data visualisation come into play. It is logically safe to assume that putting trends and insight in pictural form will be more informative than telling numbers or texts. At the end of the day, a good data analytics implementation should provide a clear picture of where an organisation for example is, where they have been and predict where they are heading to (UCDPA,2024), data visualisation is a tool that can be used to achieve this. \n",
    "\n",
    "\n",
    "### 1.2 Data Visualisation\n",
    "Data visualisation is the graphical representation of raw or processed data (Ravikiran, 2023). It is the brach of data-analytics that involve using visual elements like charts, graphs, and maps, to enhance the understanding of trends and pattern in data (CCT college, 2024).\n",
    "\n",
    "The use of data visualisation is not limited to commnicating insight only, it is also useful for data cleaning: for example when idenfying out of trend data, exploration of data structures, outlier detection: for example visually identfy data that are out of range of the remain overall observation, clustering and pattern discovery, evaluation of modeling results, and presenting findings (Unwin, 2020).\n",
    "#### [Data vis not over] Remaing: \n",
    "1. Importance of DV to overall DA goal\n",
    "2. DV in python, breifly explain py viz liabraries\n",
    "3. Introduce project breifly and whe DV come in play here \n",
    "\n",
    "### 1.3 Problem Definition\n",
    "The domain of this project is a retail company and the context is to analyse data collected on the sales of video games. Comapny wants an analysis that help to determine the sales strategy for the company in their upcoming Winter season based on insight found in their sales record, collected inform of a comma separated version(csv) data file. All implementation must be in a jupyternotebook. Justifucation for all method must be provide usinf markdown\n",
    "\n",
    "### 1.4 Objective\n",
    "1. Read csv file in pandas and explore dataset in it raw form using pandas.\n",
    "2. Perform EDA and statistical analysis\n",
    "3. Answer project question using appropriate plot and justify \n",
    "4. Rationalize all the decisions made in Jupyter Notebook report for companies CTO.\n",
    "5. Provide a detail conclusion.\n",
    "\n",
    "### 1.5 May have Objective\n",
    "1. Using appropriate machien learning algorithm, perform predictive analysis "
   ]
  },
  {
   "cell_type": "markdown",
   "id": "8223e0bd",
   "metadata": {},
   "source": [
    "#### ReadIng csv file with pandas and exploring dataset in it raw form."
   ]
  },
  {
   "cell_type": "code",
   "execution_count": 1,
   "id": "94f8eee9",
   "metadata": {},
   "outputs": [],
   "source": [
    "import pandas as pd\n",
    "import numpy as np\n",
    "import matplotlib.pyplot as plt\n",
    "import seaborn as sns\n",
    "#import warnings\n",
    "#warnings.filterwarnings('ignore')"
   ]
  },
  {
   "cell_type": "markdown",
   "id": "11111bf9",
   "metadata": {},
   "source": [
    "### Liararies used:\n",
    "1. Pandas\n",
    "2. Numpy\n",
    "3. Matplotlib.pyplot \n",
    "4. Seaborn"
   ]
  },
  {
   "cell_type": "markdown",
   "id": "991de68c",
   "metadata": {},
   "source": [
    "### Explain why each of this liabraries where chosen"
   ]
  },
  {
   "cell_type": "code",
   "execution_count": 2,
   "id": "54a8b8ae",
   "metadata": {},
   "outputs": [],
   "source": [
    "df = pd.read_csv('vgsales.csv')"
   ]
  },
  {
   "cell_type": "markdown",
   "id": "dca5d0c9",
   "metadata": {},
   "source": [
    "1. What did you do here\n",
    "2. why conver to dataframe (enables easy data wranglings, Haulage proj might help!)\n",
    "3. Why stor in a varable, help: same as 2"
   ]
  },
  {
   "cell_type": "code",
   "execution_count": 3,
   "id": "20e8e669",
   "metadata": {},
   "outputs": [
    {
     "data": {
      "text/html": [
       "<div>\n",
       "<style scoped>\n",
       "    .dataframe tbody tr th:only-of-type {\n",
       "        vertical-align: middle;\n",
       "    }\n",
       "\n",
       "    .dataframe tbody tr th {\n",
       "        vertical-align: top;\n",
       "    }\n",
       "\n",
       "    .dataframe thead th {\n",
       "        text-align: right;\n",
       "    }\n",
       "</style>\n",
       "<table border=\"1\" class=\"dataframe\">\n",
       "  <thead>\n",
       "    <tr style=\"text-align: right;\">\n",
       "      <th></th>\n",
       "      <th>Name</th>\n",
       "      <th>Platform</th>\n",
       "      <th>Year_of_Release</th>\n",
       "      <th>Genre</th>\n",
       "      <th>Publisher</th>\n",
       "      <th>NA_Sales</th>\n",
       "      <th>EU_Sales</th>\n",
       "      <th>JP_Sales</th>\n",
       "      <th>Other_Sales</th>\n",
       "      <th>Global_Sales</th>\n",
       "      <th>Critic_Score</th>\n",
       "      <th>Critic_Count</th>\n",
       "      <th>User_Score</th>\n",
       "      <th>User_Count</th>\n",
       "      <th>Developer</th>\n",
       "      <th>Rating</th>\n",
       "    </tr>\n",
       "  </thead>\n",
       "  <tbody>\n",
       "    <tr>\n",
       "      <th>0</th>\n",
       "      <td>Wii Sports</td>\n",
       "      <td>Wii</td>\n",
       "      <td>2006.0</td>\n",
       "      <td>Sports</td>\n",
       "      <td>Nintendo</td>\n",
       "      <td>41.36</td>\n",
       "      <td>28.96</td>\n",
       "      <td>3.77</td>\n",
       "      <td>8.45</td>\n",
       "      <td>82.53</td>\n",
       "      <td>76.0</td>\n",
       "      <td>51.0</td>\n",
       "      <td>8</td>\n",
       "      <td>322.0</td>\n",
       "      <td>Nintendo</td>\n",
       "      <td>E</td>\n",
       "    </tr>\n",
       "    <tr>\n",
       "      <th>1</th>\n",
       "      <td>Super Mario Bros.</td>\n",
       "      <td>NES</td>\n",
       "      <td>1985.0</td>\n",
       "      <td>Platform</td>\n",
       "      <td>Nintendo</td>\n",
       "      <td>29.08</td>\n",
       "      <td>3.58</td>\n",
       "      <td>6.81</td>\n",
       "      <td>0.77</td>\n",
       "      <td>40.24</td>\n",
       "      <td>NaN</td>\n",
       "      <td>NaN</td>\n",
       "      <td>NaN</td>\n",
       "      <td>NaN</td>\n",
       "      <td>NaN</td>\n",
       "      <td>NaN</td>\n",
       "    </tr>\n",
       "    <tr>\n",
       "      <th>2</th>\n",
       "      <td>Mario Kart Wii</td>\n",
       "      <td>Wii</td>\n",
       "      <td>2008.0</td>\n",
       "      <td>Racing</td>\n",
       "      <td>Nintendo</td>\n",
       "      <td>15.68</td>\n",
       "      <td>12.76</td>\n",
       "      <td>3.79</td>\n",
       "      <td>3.29</td>\n",
       "      <td>35.52</td>\n",
       "      <td>82.0</td>\n",
       "      <td>73.0</td>\n",
       "      <td>8.3</td>\n",
       "      <td>709.0</td>\n",
       "      <td>Nintendo</td>\n",
       "      <td>E</td>\n",
       "    </tr>\n",
       "    <tr>\n",
       "      <th>3</th>\n",
       "      <td>Wii Sports Resort</td>\n",
       "      <td>Wii</td>\n",
       "      <td>2009.0</td>\n",
       "      <td>Sports</td>\n",
       "      <td>Nintendo</td>\n",
       "      <td>15.61</td>\n",
       "      <td>10.93</td>\n",
       "      <td>3.28</td>\n",
       "      <td>2.95</td>\n",
       "      <td>32.77</td>\n",
       "      <td>80.0</td>\n",
       "      <td>73.0</td>\n",
       "      <td>8</td>\n",
       "      <td>192.0</td>\n",
       "      <td>Nintendo</td>\n",
       "      <td>E</td>\n",
       "    </tr>\n",
       "    <tr>\n",
       "      <th>4</th>\n",
       "      <td>Pokemon Red/Pokemon Blue</td>\n",
       "      <td>GB</td>\n",
       "      <td>1996.0</td>\n",
       "      <td>Role-Playing</td>\n",
       "      <td>Nintendo</td>\n",
       "      <td>11.27</td>\n",
       "      <td>8.89</td>\n",
       "      <td>10.22</td>\n",
       "      <td>1.00</td>\n",
       "      <td>31.37</td>\n",
       "      <td>NaN</td>\n",
       "      <td>NaN</td>\n",
       "      <td>NaN</td>\n",
       "      <td>NaN</td>\n",
       "      <td>NaN</td>\n",
       "      <td>NaN</td>\n",
       "    </tr>\n",
       "  </tbody>\n",
       "</table>\n",
       "</div>"
      ],
      "text/plain": [
       "                       Name Platform  Year_of_Release         Genre Publisher  \\\n",
       "0                Wii Sports      Wii           2006.0        Sports  Nintendo   \n",
       "1         Super Mario Bros.      NES           1985.0      Platform  Nintendo   \n",
       "2            Mario Kart Wii      Wii           2008.0        Racing  Nintendo   \n",
       "3         Wii Sports Resort      Wii           2009.0        Sports  Nintendo   \n",
       "4  Pokemon Red/Pokemon Blue       GB           1996.0  Role-Playing  Nintendo   \n",
       "\n",
       "   NA_Sales  EU_Sales  JP_Sales  Other_Sales  Global_Sales  Critic_Score  \\\n",
       "0     41.36     28.96      3.77         8.45         82.53          76.0   \n",
       "1     29.08      3.58      6.81         0.77         40.24           NaN   \n",
       "2     15.68     12.76      3.79         3.29         35.52          82.0   \n",
       "3     15.61     10.93      3.28         2.95         32.77          80.0   \n",
       "4     11.27      8.89     10.22         1.00         31.37           NaN   \n",
       "\n",
       "   Critic_Count User_Score  User_Count Developer Rating  \n",
       "0          51.0          8       322.0  Nintendo      E  \n",
       "1           NaN        NaN         NaN       NaN    NaN  \n",
       "2          73.0        8.3       709.0  Nintendo      E  \n",
       "3          73.0          8       192.0  Nintendo      E  \n",
       "4           NaN        NaN         NaN       NaN    NaN  "
      ]
     },
     "execution_count": 3,
     "metadata": {},
     "output_type": "execute_result"
    }
   ],
   "source": [
    "df.head()"
   ]
  },
  {
   "cell_type": "markdown",
   "id": "a12462d5",
   "metadata": {},
   "source": [
    "## EDA"
   ]
  },
  {
   "cell_type": "code",
   "execution_count": 4,
   "id": "d6f96ddb",
   "metadata": {},
   "outputs": [
    {
     "data": {
      "text/plain": [
       "(16719, 16)"
      ]
     },
     "execution_count": 4,
     "metadata": {},
     "output_type": "execute_result"
    }
   ],
   "source": [
    "df.shape"
   ]
  },
  {
   "cell_type": "code",
   "execution_count": 5,
   "id": "370b9a9c",
   "metadata": {},
   "outputs": [
    {
     "name": "stdout",
     "output_type": "stream",
     "text": [
      "<class 'pandas.core.frame.DataFrame'>\n",
      "RangeIndex: 16719 entries, 0 to 16718\n",
      "Data columns (total 16 columns):\n",
      " #   Column           Non-Null Count  Dtype  \n",
      "---  ------           --------------  -----  \n",
      " 0   Name             16717 non-null  object \n",
      " 1   Platform         16719 non-null  object \n",
      " 2   Year_of_Release  16450 non-null  float64\n",
      " 3   Genre            16717 non-null  object \n",
      " 4   Publisher        16665 non-null  object \n",
      " 5   NA_Sales         16719 non-null  float64\n",
      " 6   EU_Sales         16719 non-null  float64\n",
      " 7   JP_Sales         16719 non-null  float64\n",
      " 8   Other_Sales      16719 non-null  float64\n",
      " 9   Global_Sales     16719 non-null  float64\n",
      " 10  Critic_Score     8137 non-null   float64\n",
      " 11  Critic_Count     8137 non-null   float64\n",
      " 12  User_Score       10015 non-null  object \n",
      " 13  User_Count       7590 non-null   float64\n",
      " 14  Developer        10096 non-null  object \n",
      " 15  Rating           9950 non-null   object \n",
      "dtypes: float64(9), object(7)\n",
      "memory usage: 2.0+ MB\n"
     ]
    }
   ],
   "source": [
    "df.info()"
   ]
  },
  {
   "cell_type": "code",
   "execution_count": 6,
   "id": "e87eee0e",
   "metadata": {
    "scrolled": true
   },
   "outputs": [
    {
     "data": {
      "text/plain": [
       "Name                  2\n",
       "Platform              0\n",
       "Year_of_Release     269\n",
       "Genre                 2\n",
       "Publisher            54\n",
       "NA_Sales              0\n",
       "EU_Sales              0\n",
       "JP_Sales              0\n",
       "Other_Sales           0\n",
       "Global_Sales          0\n",
       "Critic_Score       8582\n",
       "Critic_Count       8582\n",
       "User_Score         6704\n",
       "User_Count         9129\n",
       "Developer          6623\n",
       "Rating             6769\n",
       "dtype: int64"
      ]
     },
     "execution_count": 6,
     "metadata": {},
     "output_type": "execute_result"
    }
   ],
   "source": [
    "df.isnull().sum()"
   ]
  },
  {
   "cell_type": "markdown",
   "id": "1eb2353f",
   "metadata": {},
   "source": [
    "### Justification: \n",
    "***why [head, shape, info]?***\n",
    "1. The first 3 lines of code where called from pandas liabrary to show the data. In other to ehance data manipulation and wrangling, i transformed the csv data into a dataframe(df) as eairler alluded. Now in other to see the df, the ***[head, shape, ifo]*** methods where used. The head method ***'df.head()'*** will display by default the firs five rows and all the columns in the data. The shape method ***'df.shape'*** was used to show the size of the data, output shows that there are ***16719 observations and 16 columns*** in the data, this not inform me on the size of data i show have in all columns but also gives me an insight into the dimentionality of the data. for instance in highly dimentional data, pandas will display by defaut 20 columns, the shape method will give th actual size if the data it there are more than 20 displayed. The info method ***'df.info()'*** was used for further exploration. The info method was used to get the following informations ***(datatype, shape of actual observation in each variable, name and index of each variable)***. Datatype information helps me to know the structure in which observations in each variable has been stroed. Output shows out of 16 variables, there are 7 categorical/object variables, and 7 numerical variables. This pice of information is important in selceting the appropraite visualsation thechnique to use to display the observations of these variables. ***shape of actual observation in each variable*** information helps me to see if there are non recorded observations(null-values) in any of the observations. Genrally, if there are NAN values, the count of the observation will be less than 16719. The number of NAN will be the diffrence between the actual observation count as shown using the shape method, and the recorded observation count in each variable as shown with the info method. Output show that out of 16 observations, 10 observations namely ***[Name, Year_of_Release,,  Genre, Publisher, Critic_Score, Critic_Count, User_Score, User_Count, Developer, Rating]*** have NAN values in them. This pieces of information is important going forward in terms of data cleaning, relaibility of statistiscal result and even visualisation. To conclude what the 3 codes did was ***showing me the data***.  \n",
    "\n",
    "***Why [isnull.sum]:***\n",
    "\n",
    "2. The [isnull.sum] code was used to further explore the missing observations that was found using ***info()*** method. The info method only tells me ther are missing varlues in some observations, implementing isnull.sum method shows me how many are in each of thos variables. ***.sum*** arguments helps to veiw the number of null values in each feuture individially. This information shows the quantity of the missing values, which will guide me on the appropriate approach to handle this problem."
   ]
  },
  {
   "cell_type": "code",
   "execution_count": 7,
   "id": "992b348a",
   "metadata": {},
   "outputs": [],
   "source": [
    "missing = df.isnull().sum()"
   ]
  },
  {
   "cell_type": "code",
   "execution_count": 8,
   "id": "05e87e95",
   "metadata": {},
   "outputs": [],
   "source": [
    "t_obsevation = len(df)"
   ]
  },
  {
   "cell_type": "code",
   "execution_count": 9,
   "id": "28034bca",
   "metadata": {},
   "outputs": [
    {
     "data": {
      "text/plain": [
       "16719"
      ]
     },
     "execution_count": 9,
     "metadata": {},
     "output_type": "execute_result"
    }
   ],
   "source": [
    "t_obsevation"
   ]
  },
  {
   "cell_type": "code",
   "execution_count": 10,
   "id": "3b0ea5b4",
   "metadata": {},
   "outputs": [
    {
     "data": {
      "text/plain": [
       "(16719, 16)"
      ]
     },
     "execution_count": 10,
     "metadata": {},
     "output_type": "execute_result"
    }
   ],
   "source": [
    "df.shape"
   ]
  },
  {
   "cell_type": "code",
   "execution_count": 11,
   "id": "19bf159b",
   "metadata": {},
   "outputs": [],
   "source": [
    "prop = (missing/t_obsevation)*100"
   ]
  },
  {
   "cell_type": "code",
   "execution_count": 12,
   "id": "7a3973a4",
   "metadata": {
    "scrolled": true
   },
   "outputs": [
    {
     "data": {
      "text/plain": [
       "Name                0.011962\n",
       "Platform            0.000000\n",
       "Year_of_Release     1.608948\n",
       "Genre               0.011962\n",
       "Publisher           0.322986\n",
       "NA_Sales            0.000000\n",
       "EU_Sales            0.000000\n",
       "JP_Sales            0.000000\n",
       "Other_Sales         0.000000\n",
       "Global_Sales        0.000000\n",
       "Critic_Score       51.330821\n",
       "Critic_Count       51.330821\n",
       "User_Score         40.098092\n",
       "User_Count         54.602548\n",
       "Developer          39.613613\n",
       "Rating             40.486871\n",
       "dtype: float64"
      ]
     },
     "execution_count": 12,
     "metadata": {},
     "output_type": "execute_result"
    }
   ],
   "source": [
    "prop "
   ]
  },
  {
   "cell_type": "markdown",
   "id": "c084e5ea",
   "metadata": {},
   "source": [
    "### Missing observations proportion to actual observations:\n",
    "***Given the following:***\n",
    "Proportionality is the quality of corresponding in size or amount to something else(goggle). In this contex, i assumed the observations in each variable is a 100%, out of the 100% observation which is 16719, what persentage out of the 100% is missing values (unrecorded observations).\n",
    "#### why 'prop = (missing/t_obsevation)*100'\n",
    "\n",
    "Break down the code: \" variable prop is assigned to missing(unrecored observations) divided by total observation(16719) multiplied by 100%.\"\n",
    "\n",
    "What this code did is to give me the percentage of all observation that is NAN. This is basically converting the numbers i got using \"isnullsum()\" into percentage. To do this: \n",
    "I assinged \"df.isnull().sum()\" to variable 'missing' as this: \"missing = df.isnull().sum()\" and assigned 'len(df)' which will give the count of the total observations in df, to variable \"t_observation'. I then used the variables as '(missing/t_obsevation)*100' and assigned the output to variable \"prop\". I then called prop, which output as shown above is the persentage of the missing values in the columns that have them. \n",
    "### Why\n",
    "This information will further guide me on the most appropriate method to use deal with the missing values.  \n",
    "# Next\n",
    "1. Explain the proportions in each variable, and how it impact analysis. "
   ]
  },
  {
   "cell_type": "code",
   "execution_count": 13,
   "id": "9914b30c",
   "metadata": {},
   "outputs": [
    {
     "data": {
      "text/plain": [
       "array(['Nintendo', 'Microsoft Game Studios', 'Take-Two Interactive',\n",
       "       'Sony Computer Entertainment', 'Activision', 'Ubisoft',\n",
       "       'Bethesda Softworks', 'Electronic Arts', 'Sega', 'SquareSoft',\n",
       "       'Atari', '505 Games', 'Capcom', 'GT Interactive',\n",
       "       'Konami Digital Entertainment', 'Square Enix',\n",
       "       'Sony Computer Entertainment Europe', 'Virgin Interactive',\n",
       "       'LucasArts', 'Warner Bros. Interactive Entertainment',\n",
       "       'Universal Interactive', 'Eidos Interactive', 'RedOctane',\n",
       "       'Vivendi Games', 'Enix Corporation', 'Namco Bandai Games',\n",
       "       'Palcom', 'Hasbro Interactive', 'THQ', 'Fox Interactive',\n",
       "       'Acclaim Entertainment', 'MTV Games', 'Disney Interactive Studios',\n",
       "       nan, 'Codemasters', 'Majesco Entertainment', 'Red Orb', 'Level 5',\n",
       "       'Arena Entertainment', 'Midway Games', 'JVC', 'Deep Silver',\n",
       "       'NCSoft', '989 Studios', 'UEP Systems', 'Parker Bros.', 'Maxis',\n",
       "       'Imagic', 'Tecmo Koei', 'ASCII Entertainment', 'Valve Software',\n",
       "       'Mindscape', 'Infogrames', 'Unknown', 'Square', 'Valve',\n",
       "       'Banpresto', 'Hello Games', 'D3Publisher', 'Activision Value',\n",
       "       'Oxygen Interactive', 'Red Storm Entertainment', 'Video System',\n",
       "       'Global Star', 'Gotham Games', 'Westwood Studios', 'GungHo',\n",
       "       'Crave Entertainment', 'Hudson Soft', 'Coleco',\n",
       "       'Rising Star Games', 'TDK Mediactive', 'ASC Games', 'Accolade',\n",
       "       'Zoo Games', 'Sony Online Entertainment', '3DO', 'Natsume', 'RTL',\n",
       "       'Alchemist', 'Black Label Games', 'SouthPeak Games',\n",
       "       'Focus Home Interactive', 'Ocean', 'Zoo Digital Publishing',\n",
       "       'Psygnosis', 'City Interactive', 'Empire Interactive', 'Success',\n",
       "       'Compile', 'Russel', 'Atlus', 'Mastertronic',\n",
       "       'Slightly Mad Studios', 'Taito', 'Agetec', 'Microprose', 'Play It',\n",
       "       'GSP', 'Tomy Corporation', 'Sammy Corporation', 'Koch Media',\n",
       "       'Game Factory', 'Titus', 'Marvelous Entertainment', 'Genki',\n",
       "       'Mojang', 'CTO SpA', 'TalonSoft', 'Crystal Dynamics',\n",
       "       'Square Enix ', 'mixi, Inc', 'Pinnacle', 'SCi', 'Quelle',\n",
       "       'Rage Software', 'Ubisoft Annecy', 'Interplay', 'Scholastic Inc.',\n",
       "       'Mystique', 'ChunSoft', 'Square EA',\n",
       "       '20th Century Fox Video Games', 'Hudson Entertainment',\n",
       "       'Men-A-Vision', 'Nobilis', 'Avanquest Software',\n",
       "       'Big Ben Interactive', 'Nordic Games', 'Touchstone', 'Spike',\n",
       "       'Nippon Ichi Software', 'Sony Computer Entertainment America',\n",
       "       'Jester Interactive', 'LEGO Media', 'Quest', 'Illusion Softworks',\n",
       "       'Tigervision', 'Rocket Company', 'Metro 3D', 'Mattel Interactive',\n",
       "       'IE Institute', 'Funbox Media', 'Rondomedia', 'Universal Gamex',\n",
       "       'Ghostlight', 'Wizard Video Games',\n",
       "       'BMG Interactive Entertainment', 'PQube', 'Trion Worlds',\n",
       "       'Xseed Games', 'Laguna', 'Takara', 'Ignition Entertainment',\n",
       "       'Kadokawa Shoten', 'Enterbrain', 'Imagineer', 'CPG Products',\n",
       "       'System 3 Arcade Software', 'Aruze Corp', 'Destineer',\n",
       "       'Gamebridge', 'Midas Interactive Entertainment', 'Jaleco',\n",
       "       'Answer Software', 'Pack In Soft', 'XS Games', 'Rebellion',\n",
       "       'Ultravision', 'Harmonix Music Systems', 'Activision Blizzard',\n",
       "       'Xplosiv', 'Wanadoo', 'Telltale Games', 'NovaLogic', 'Epoch',\n",
       "       'BAM! Entertainment', 'GameMill Entertainment',\n",
       "       'Knowledge Adventure', 'Tetris Online', 'Mastiff', 'ESP', 'TYO',\n",
       "       'Telegames', 'Mud Duck Productions', 'Screenlife', 'Pioneer LDC',\n",
       "       'Magical Company', 'Kemco', 'Mentor Interactive',\n",
       "       'Human Entertainment', 'Data Age', 'Electronic Arts Victor',\n",
       "       'Jack of All Games', 'Avanquest', 'Black Bean Games', '989 Sports',\n",
       "       'Takara Tomy', 'Media Rings', 'Elf', 'Starfish', 'Zushi Games',\n",
       "       'Jorudan', 'Destination Software, Inc', 'New',\n",
       "       'Brash Entertainment', 'Kalypso Media', 'ITT Family Games',\n",
       "       'Ackkstudios', 'PopCap Games', 'Starpath Corp.', 'BPS',\n",
       "       'Gathering of Developers', 'NewKidCo', 'Marvelous Interactive',\n",
       "       'Storm City Games', 'CokeM Interactive', 'P2 Games',\n",
       "       'CBS Electronics', 'Home Entertainment Suppliers', 'Magix',\n",
       "       'Arc System Works', 'Angel Studios', 'Wargaming.net', 'Playmates',\n",
       "       'SNK Playmore', 'Hamster Corporation', 'From Software',\n",
       "       'Nippon Columbia', 'Nichibutsu', 'Conspiracy Entertainment',\n",
       "       'Hect', 'Mumbo Jumbo', 'DTP Entertainment',\n",
       "       'Pacific Century Cyber Works', 'Indie Games', 'Liquid Games',\n",
       "       'NEC', 'Axela', 'ArtDink', 'Sunsoft', 'Little Orbit', 'FuRyu',\n",
       "       'Gust', 'SNK', 'NEC Interchannel', 'Nihon Falcom Corporation',\n",
       "       'Xing Entertainment', 'ValuSoft', 'Victor Interactive',\n",
       "       'American Softworks', 'Falcom Corporation', 'Detn8 Games', 'Bomb',\n",
       "       'Nordcurrent', 'Milestone S.r.l.', 'AQ Interactive', 'Sears',\n",
       "       'Seta Corporation', 'On Demand', 'CCP', 'NCS',\n",
       "       'Rebellion Developments', 'Agatsuma Entertainment',\n",
       "       'Gremlin Interactive Ltd', 'Aspyr', 'Compile Heart',\n",
       "       'Culture Brain', 'Mad Catz', 'Shogakukan', 'Merscom LLC',\n",
       "       'JoWood Productions', 'Nippon Telenet', 'TDK Core',\n",
       "       'Kadokawa Games', 'SSI', 'Foreign Media Games', 'Core Design Ltd.',\n",
       "       'bitComposer Games', 'Astragon', 'Asylum Entertainment',\n",
       "       'Performance Designed Products', 'UFO Interactive',\n",
       "       'Essential Games', 'Adeline Software', 'Funcom', 'PlayV',\n",
       "       'Panther Software', 'Blast! Entertainment Ltd',\n",
       "       'Playlogic Game Factory', 'DSI Games', 'Avalon Interactive',\n",
       "       'Game Life', 'Popcorn Arcade', 'Aques', 'System 3', 'Syscom',\n",
       "       'Vir2L Studios', 'Vatical Entertainment', 'Neko Entertainment',\n",
       "       'White Park Bay Software', 'Vic Tokai', 'Media Factory',\n",
       "       'Daedalic', 'Game Arts', 'The Adventure Company', 'EA Games',\n",
       "       'Acquire', 'Broccoli', 'General Entertainment',\n",
       "       'Paradox Interactive', 'Yacht Club Games', 'Imadio',\n",
       "       'Swing! Entertainment', 'Sony Music Entertainment', 'Aqua Plus',\n",
       "       'Excalibur Publishing', 'Hip Interactive', 'Tripwire Interactive',\n",
       "       'DreamCatcher Interactive', 'SCS Software', 'Havas Interactive',\n",
       "       'Sting', 'Idea Factory', 'Telstar', 'U.S. Gold', 'Funsta',\n",
       "       'DreamWorks Interactive', 'Slitherine Software', 'MTO', 'Graffiti',\n",
       "       'Tru Blu Entertainment', 'DHM Interactive', 'Crytek', 'FunSoft',\n",
       "       'Data Design Interactive', 'SPS', 'Moss', 'T&E Soft',\n",
       "       'NDA Productions', 'Bigben Interactive', 'Data East',\n",
       "       'Idea Factory International', 'Time Warner Interactive',\n",
       "       'Gainax Network Systems', 'Daito', 'O3 Entertainment', 'O-Games',\n",
       "       'Gameloft', 'Xicat Interactive', 'Simon & Schuster Interactive',\n",
       "       'Valcon Games', 'PopTop Software', 'TOHO', 'PM Studios',\n",
       "       'Bohemia Interactive', 'Reef Entertainment', '5pb',\n",
       "       'HMH Interactive', 'inXile Entertainment', 'Cave', 'Microids',\n",
       "       'Paon', 'CDV Software Entertainment', 'Micro Cabin', 'GameTek',\n",
       "       'Benesse', 'Type-Moon', 'Enjoy Gaming ltd.', 'Asmik Corp',\n",
       "       'Interplay Productions', 'Asmik Ace Entertainment', 'Image Epoch',\n",
       "       'Phantom EFX', 'Evolved Games', 'responDESIGN',\n",
       "       'Griffin International', 'Culture Publishers', 'Hackberry',\n",
       "       'Hearty Robin', 'Nippon Amuse', 'Origin Systems', 'Seventh Chord',\n",
       "       'Abylight', 'Mitsui', 'Insomniac Games', 'Flight-Plan',\n",
       "       'Milestone', 'Glams', 'Aksys Games', 'Locus', 'Warp',\n",
       "       'Irem Software Engineering', 'Myelin Media',\n",
       "       'Global A Entertainment', 'Alternative Software', 'Mercury Games',\n",
       "       'Sunrise Interactive', 'Elite', 'Evolution Games',\n",
       "       'Daedalic Entertainment', 'Edia', 'Athena', 'Aria', 'Tivola',\n",
       "       'Happinet', 'Tommo', 'Altron', 'Revolution Software',\n",
       "       'Media Works', 'Fortyfive', 'Gamecock', 'Imax', '10TACLE Studios',\n",
       "       'Groove Games', 'Pack-In-Video', 'Crimson Cow', 'iWin', 'Asgard',\n",
       "       'Ecole', 'Yumedia', 'Ascaron Entertainment GmbH', 'HAL Laboratory',\n",
       "       'Phenomedia', 'Grand Prix Games', 'DigiCube', 'Creative Core',\n",
       "       'Kaga Create', 'WayForward Technologies', 'LSP Games',\n",
       "       'ASCII Media Works', '1C Company', 'Coconuts Japan', 'Arika',\n",
       "       'Marvel Entertainment', 'Ertain', 'Prototype', 'Phantagram',\n",
       "       'The Learning Company', 'TechnoSoft', 'MLB.com', 'Vap', 'Misawa',\n",
       "       'Yeti', 'Dusenberry Martin Racing', 'Navarre Corp', 'Pow',\n",
       "       'MediaQuest', 'Team17 Software', 'Max Five', 'Tradewest',\n",
       "       'Comfort', 'Milestone S.r.l', 'Pony Canyon', 'Riverhillsoft',\n",
       "       'Summitsoft', 'Playmore', 'Kool Kizz', 'Monte Christo Multimedia',\n",
       "       'TopWare Interactive', 'Legacy Interactive',\n",
       "       'Cloud Imperium Games Corporation', 'Flashpoint Games',\n",
       "       'CyberFront', 'Alawar Entertainment', 'Societa', 'Interchannel',\n",
       "       'Experience Inc.', 'Sonnet', 'Virtual Play Games', 'Zenrin',\n",
       "       'Iceberg Interactive', 'Ivolgamus', 'MC2 Entertainment', '2D Boy',\n",
       "       'Games Workshop', 'Kando Games', 'Office Create',\n",
       "       'Maximum Family Games', 'Fields', 'Gearbox Software',\n",
       "       'Princess Soft', 'Extreme Entertainment Group', 'Big Fish Games',\n",
       "       'Berkeley', 'Mamba Games', 'Fuji', 'FuRyu Corporation',\n",
       "       'Her Interactive', 'imageepoch Inc.', 'Just Flight', 'Kamui',\n",
       "       'ASK', 'Cygames', 'Introversion Software', '49Games', 'KSS',\n",
       "       'dramatic create', 'TGL', 'KID', 'Quinrose', 'Sold Out', 'Encore',\n",
       "       'G.Rev', 'Sunflowers', 'Headup Games', 'Sweets',\n",
       "       'Kokopeli Digital Studios', 'id Software', 'Nexon', 'BushiRoad',\n",
       "       'Devolver Digital', 'Number None', 'Tryfirst', 'GN Software',\n",
       "       \"Yuke's\", 'Strategy First', 'Lexicon Entertainment',\n",
       "       'Paon Corporation', 'Kids Station', 'Licensed 4U', 'GOA',\n",
       "       '7G//AMES', 'King Records', 'Minato Station',\n",
       "       'Graphsim Entertainment', 'Easy Interactive', 'Gaga',\n",
       "       'Yamasa Entertainment', 'Plenty', 'Views', 'Blue Byte', 'fonfun',\n",
       "       'NetRevo', 'Epic Games', 'Quintet', 'Focus Multimedia',\n",
       "       'Phoenix Games', 'Marvelous Games', 'Dorart', 'Codemasters Online',\n",
       "       'Stainless Games', 'Aerosoft', 'Imageworks', 'Karin Entertainment',\n",
       "       'Technos Japan Corporation', 'Masque Publishing', 'Gakken',\n",
       "       'New World Computing', 'Mirai Shounen', 'Datam Polystar', 'HuneX',\n",
       "       'Visco', 'Saurus', 'Revolution (Japan)', 'Giza10', 'Alvion',\n",
       "       'Giga', 'Mycom', 'Warashi', 'System Soft', 'RED Entertainment',\n",
       "       'Lighthouse Interactive', 'Michaelsoft', 'Media Entertainment',\n",
       "       'Genterprise', 'Interworks Unlimited, Inc.', 'Inti Creates',\n",
       "       'Boost On', 'EON Digital Entertainment', 'Nitroplus', 'Naxat Soft',\n",
       "       'Piacci', 'Paradox Development', 'Otomate',\n",
       "       'Ascaron Entertainment', 'Ongakukan', 'Commseed',\n",
       "       'UIG Entertainment', 'Takuyo', 'Interchannel-Holon',\n",
       "       'Red Flagship'], dtype=object)"
      ]
     },
     "execution_count": 13,
     "metadata": {},
     "output_type": "execute_result"
    }
   ],
   "source": [
    "df[\"Publisher\"].unique()"
   ]
  },
  {
   "cell_type": "code",
   "execution_count": 14,
   "id": "38c023ad",
   "metadata": {},
   "outputs": [
    {
     "data": {
      "text/plain": [
       "array(['8', nan, '8.3', '8.5', '6.6', '8.4', '8.6', '7.7', '6.3', '7.4',\n",
       "       '8.2', '9', '7.9', '8.1', '8.7', '7.1', '3.4', '5.3', '4.8', '3.2',\n",
       "       '8.9', '6.4', '7.8', '7.5', '2.6', '7.2', '9.2', '7', '7.3', '4.3',\n",
       "       '7.6', '5.7', '5', '9.1', '6.5', 'tbd', '8.8', '6.9', '9.4', '6.8',\n",
       "       '6.1', '6.7', '5.4', '4', '4.9', '4.5', '9.3', '6.2', '4.2', '6',\n",
       "       '3.7', '4.1', '5.8', '5.6', '5.5', '4.4', '4.6', '5.9', '3.9',\n",
       "       '3.1', '2.9', '5.2', '3.3', '4.7', '5.1', '3.5', '2.5', '1.9', '3',\n",
       "       '2.7', '2.2', '2', '9.5', '2.1', '3.6', '2.8', '1.8', '3.8', '0',\n",
       "       '1.6', '9.6', '2.4', '1.7', '1.1', '0.3', '1.5', '0.7', '1.2',\n",
       "       '2.3', '0.5', '1.3', '0.2', '0.6', '1.4', '0.9', '1', '9.7'],\n",
       "      dtype=object)"
      ]
     },
     "execution_count": 14,
     "metadata": {},
     "output_type": "execute_result"
    }
   ],
   "source": [
    "df[\"User_Score\"].unique()"
   ]
  },
  {
   "cell_type": "code",
   "execution_count": 15,
   "id": "54890fff",
   "metadata": {},
   "outputs": [
    {
     "data": {
      "text/plain": [
       "array(['E', nan, 'M', 'T', 'E10+', 'K-A', 'AO', 'EC', 'RP'], dtype=object)"
      ]
     },
     "execution_count": 15,
     "metadata": {},
     "output_type": "execute_result"
    }
   ],
   "source": [
    "df[\"Rating\"].unique()"
   ]
  },
  {
   "cell_type": "code",
   "execution_count": 16,
   "id": "b36ea161",
   "metadata": {},
   "outputs": [
    {
     "data": {
      "text/plain": [
       "array(['Nintendo', nan, 'Good Science Studio', ..., 'Big Red Software',\n",
       "       'Atomic Games', 'Interchannel-Holon'], dtype=object)"
      ]
     },
     "execution_count": 16,
     "metadata": {},
     "output_type": "execute_result"
    }
   ],
   "source": [
    "df[\"Developer\"].unique()"
   ]
  },
  {
   "cell_type": "code",
   "execution_count": 17,
   "id": "ebb0cda8",
   "metadata": {},
   "outputs": [
    {
     "data": {
      "text/plain": [
       "Ubisoft                                   204\n",
       "EA Sports                                 172\n",
       "EA Canada                                 167\n",
       "Konami                                    162\n",
       "Capcom                                    139\n",
       "                                         ... \n",
       "Genki, Kojima Productions                   1\n",
       "Warner Bros. Interactive Entertainment      1\n",
       "THQ, Altron                                 1\n",
       "Netherock Ltd.                              1\n",
       "Interchannel-Holon                          1\n",
       "Name: Developer, Length: 1696, dtype: int64"
      ]
     },
     "execution_count": 17,
     "metadata": {},
     "output_type": "execute_result"
    }
   ],
   "source": [
    "df[\"Developer\"].value_counts()"
   ]
  },
  {
   "cell_type": "markdown",
   "id": "afb61fd2",
   "metadata": {},
   "source": [
    "## Statistical summary"
   ]
  },
  {
   "cell_type": "code",
   "execution_count": 18,
   "id": "c7936cea",
   "metadata": {},
   "outputs": [
    {
     "data": {
      "text/html": [
       "<div>\n",
       "<style scoped>\n",
       "    .dataframe tbody tr th:only-of-type {\n",
       "        vertical-align: middle;\n",
       "    }\n",
       "\n",
       "    .dataframe tbody tr th {\n",
       "        vertical-align: top;\n",
       "    }\n",
       "\n",
       "    .dataframe thead th {\n",
       "        text-align: right;\n",
       "    }\n",
       "</style>\n",
       "<table border=\"1\" class=\"dataframe\">\n",
       "  <thead>\n",
       "    <tr style=\"text-align: right;\">\n",
       "      <th></th>\n",
       "      <th>Year_of_Release</th>\n",
       "      <th>NA_Sales</th>\n",
       "      <th>EU_Sales</th>\n",
       "      <th>JP_Sales</th>\n",
       "      <th>Other_Sales</th>\n",
       "      <th>Global_Sales</th>\n",
       "      <th>Critic_Score</th>\n",
       "      <th>Critic_Count</th>\n",
       "      <th>User_Count</th>\n",
       "    </tr>\n",
       "  </thead>\n",
       "  <tbody>\n",
       "    <tr>\n",
       "      <th>count</th>\n",
       "      <td>16450.000000</td>\n",
       "      <td>16719.000000</td>\n",
       "      <td>16719.000000</td>\n",
       "      <td>16719.000000</td>\n",
       "      <td>16719.000000</td>\n",
       "      <td>16719.000000</td>\n",
       "      <td>8137.000000</td>\n",
       "      <td>8137.000000</td>\n",
       "      <td>7590.000000</td>\n",
       "    </tr>\n",
       "    <tr>\n",
       "      <th>mean</th>\n",
       "      <td>2006.487356</td>\n",
       "      <td>0.263330</td>\n",
       "      <td>0.145025</td>\n",
       "      <td>0.077602</td>\n",
       "      <td>0.047332</td>\n",
       "      <td>0.533543</td>\n",
       "      <td>68.967679</td>\n",
       "      <td>26.360821</td>\n",
       "      <td>162.229908</td>\n",
       "    </tr>\n",
       "    <tr>\n",
       "      <th>std</th>\n",
       "      <td>5.878995</td>\n",
       "      <td>0.813514</td>\n",
       "      <td>0.503283</td>\n",
       "      <td>0.308818</td>\n",
       "      <td>0.186710</td>\n",
       "      <td>1.547935</td>\n",
       "      <td>13.938165</td>\n",
       "      <td>18.980495</td>\n",
       "      <td>561.282326</td>\n",
       "    </tr>\n",
       "    <tr>\n",
       "      <th>min</th>\n",
       "      <td>1980.000000</td>\n",
       "      <td>0.000000</td>\n",
       "      <td>0.000000</td>\n",
       "      <td>0.000000</td>\n",
       "      <td>0.000000</td>\n",
       "      <td>0.010000</td>\n",
       "      <td>13.000000</td>\n",
       "      <td>3.000000</td>\n",
       "      <td>4.000000</td>\n",
       "    </tr>\n",
       "    <tr>\n",
       "      <th>25%</th>\n",
       "      <td>2003.000000</td>\n",
       "      <td>0.000000</td>\n",
       "      <td>0.000000</td>\n",
       "      <td>0.000000</td>\n",
       "      <td>0.000000</td>\n",
       "      <td>0.060000</td>\n",
       "      <td>60.000000</td>\n",
       "      <td>12.000000</td>\n",
       "      <td>10.000000</td>\n",
       "    </tr>\n",
       "    <tr>\n",
       "      <th>50%</th>\n",
       "      <td>2007.000000</td>\n",
       "      <td>0.080000</td>\n",
       "      <td>0.020000</td>\n",
       "      <td>0.000000</td>\n",
       "      <td>0.010000</td>\n",
       "      <td>0.170000</td>\n",
       "      <td>71.000000</td>\n",
       "      <td>21.000000</td>\n",
       "      <td>24.000000</td>\n",
       "    </tr>\n",
       "    <tr>\n",
       "      <th>75%</th>\n",
       "      <td>2010.000000</td>\n",
       "      <td>0.240000</td>\n",
       "      <td>0.110000</td>\n",
       "      <td>0.040000</td>\n",
       "      <td>0.030000</td>\n",
       "      <td>0.470000</td>\n",
       "      <td>79.000000</td>\n",
       "      <td>36.000000</td>\n",
       "      <td>81.000000</td>\n",
       "    </tr>\n",
       "    <tr>\n",
       "      <th>max</th>\n",
       "      <td>2020.000000</td>\n",
       "      <td>41.360000</td>\n",
       "      <td>28.960000</td>\n",
       "      <td>10.220000</td>\n",
       "      <td>10.570000</td>\n",
       "      <td>82.530000</td>\n",
       "      <td>98.000000</td>\n",
       "      <td>113.000000</td>\n",
       "      <td>10665.000000</td>\n",
       "    </tr>\n",
       "  </tbody>\n",
       "</table>\n",
       "</div>"
      ],
      "text/plain": [
       "       Year_of_Release      NA_Sales      EU_Sales      JP_Sales  \\\n",
       "count     16450.000000  16719.000000  16719.000000  16719.000000   \n",
       "mean       2006.487356      0.263330      0.145025      0.077602   \n",
       "std           5.878995      0.813514      0.503283      0.308818   \n",
       "min        1980.000000      0.000000      0.000000      0.000000   \n",
       "25%        2003.000000      0.000000      0.000000      0.000000   \n",
       "50%        2007.000000      0.080000      0.020000      0.000000   \n",
       "75%        2010.000000      0.240000      0.110000      0.040000   \n",
       "max        2020.000000     41.360000     28.960000     10.220000   \n",
       "\n",
       "        Other_Sales  Global_Sales  Critic_Score  Critic_Count    User_Count  \n",
       "count  16719.000000  16719.000000   8137.000000   8137.000000   7590.000000  \n",
       "mean       0.047332      0.533543     68.967679     26.360821    162.229908  \n",
       "std        0.186710      1.547935     13.938165     18.980495    561.282326  \n",
       "min        0.000000      0.010000     13.000000      3.000000      4.000000  \n",
       "25%        0.000000      0.060000     60.000000     12.000000     10.000000  \n",
       "50%        0.010000      0.170000     71.000000     21.000000     24.000000  \n",
       "75%        0.030000      0.470000     79.000000     36.000000     81.000000  \n",
       "max       10.570000     82.530000     98.000000    113.000000  10665.000000  "
      ]
     },
     "execution_count": 18,
     "metadata": {},
     "output_type": "execute_result"
    }
   ],
   "source": [
    "df.describe()"
   ]
  },
  {
   "cell_type": "markdown",
   "id": "81a09b27",
   "metadata": {},
   "source": [
    "## Next\n",
    "1. Explain fivr number summary and why (distribution, skewness and all....)\n",
    "2. Box plot (visually shows outliers and IQR)... why not other plot? "
   ]
  },
  {
   "cell_type": "code",
   "execution_count": 19,
   "id": "8f11f6cf",
   "metadata": {},
   "outputs": [
    {
     "data": {
      "text/html": [
       "<div>\n",
       "<style scoped>\n",
       "    .dataframe tbody tr th:only-of-type {\n",
       "        vertical-align: middle;\n",
       "    }\n",
       "\n",
       "    .dataframe tbody tr th {\n",
       "        vertical-align: top;\n",
       "    }\n",
       "\n",
       "    .dataframe thead th {\n",
       "        text-align: right;\n",
       "    }\n",
       "</style>\n",
       "<table border=\"1\" class=\"dataframe\">\n",
       "  <thead>\n",
       "    <tr style=\"text-align: right;\">\n",
       "      <th></th>\n",
       "      <th>Name</th>\n",
       "      <th>Platform</th>\n",
       "      <th>Genre</th>\n",
       "      <th>Publisher</th>\n",
       "      <th>User_Score</th>\n",
       "      <th>Developer</th>\n",
       "      <th>Rating</th>\n",
       "    </tr>\n",
       "  </thead>\n",
       "  <tbody>\n",
       "    <tr>\n",
       "      <th>count</th>\n",
       "      <td>16717</td>\n",
       "      <td>16719</td>\n",
       "      <td>16717</td>\n",
       "      <td>16665</td>\n",
       "      <td>10015</td>\n",
       "      <td>10096</td>\n",
       "      <td>9950</td>\n",
       "    </tr>\n",
       "    <tr>\n",
       "      <th>unique</th>\n",
       "      <td>11562</td>\n",
       "      <td>31</td>\n",
       "      <td>12</td>\n",
       "      <td>581</td>\n",
       "      <td>96</td>\n",
       "      <td>1696</td>\n",
       "      <td>8</td>\n",
       "    </tr>\n",
       "    <tr>\n",
       "      <th>top</th>\n",
       "      <td>Need for Speed: Most Wanted</td>\n",
       "      <td>PS2</td>\n",
       "      <td>Action</td>\n",
       "      <td>Electronic Arts</td>\n",
       "      <td>tbd</td>\n",
       "      <td>Ubisoft</td>\n",
       "      <td>E</td>\n",
       "    </tr>\n",
       "    <tr>\n",
       "      <th>freq</th>\n",
       "      <td>12</td>\n",
       "      <td>2161</td>\n",
       "      <td>3370</td>\n",
       "      <td>1356</td>\n",
       "      <td>2425</td>\n",
       "      <td>204</td>\n",
       "      <td>3991</td>\n",
       "    </tr>\n",
       "  </tbody>\n",
       "</table>\n",
       "</div>"
      ],
      "text/plain": [
       "                               Name Platform   Genre        Publisher  \\\n",
       "count                         16717    16719   16717            16665   \n",
       "unique                        11562       31      12              581   \n",
       "top     Need for Speed: Most Wanted      PS2  Action  Electronic Arts   \n",
       "freq                             12     2161    3370             1356   \n",
       "\n",
       "       User_Score Developer Rating  \n",
       "count       10015     10096   9950  \n",
       "unique         96      1696      8  \n",
       "top           tbd   Ubisoft      E  \n",
       "freq         2425       204   3991  "
      ]
     },
     "execution_count": 19,
     "metadata": {},
     "output_type": "execute_result"
    }
   ],
   "source": [
    "df.describe(include= 'object')"
   ]
  },
  {
   "cell_type": "markdown",
   "id": "183f52d8",
   "metadata": {},
   "source": [
    "***why df.describe(include= 'object')***\n",
    "Nutshell: Describes the non-numerical variables\n",
    "\n",
    "## Boxplot and hist plot the numerical data"
   ]
  },
  {
   "cell_type": "code",
   "execution_count": 20,
   "id": "fd9a2dda",
   "metadata": {},
   "outputs": [],
   "source": [
    "num_d = df.select_dtypes(include =['int','float'])"
   ]
  },
  {
   "cell_type": "code",
   "execution_count": 21,
   "id": "a39f991a",
   "metadata": {},
   "outputs": [
    {
     "data": {
      "text/plain": [
       "<Figure size 1000x600 with 0 Axes>"
      ]
     },
     "execution_count": 21,
     "metadata": {},
     "output_type": "execute_result"
    },
    {
     "data": {
      "image/png": "[encoded data removed]",
      "text/plain": [
       "<Figure size 640x480 with 1 Axes>"
      ]
     },
     "metadata": {},
     "output_type": "display_data"
    },
    {
     "data": {
      "text/plain": [
       "<Figure size 1000x600 with 0 Axes>"
      ]
     },
     "metadata": {},
     "output_type": "display_data"
    }
   ],
   "source": [
    "sns.boxplot(data=num_d)\n",
    "plt.xticks(rotation=45)\n",
    "plt.ylabel('value')\n",
    "plt.figure(figsize= (10,6))"
   ]
  },
  {
   "cell_type": "code",
   "execution_count": 22,
   "id": "ee0d0825",
   "metadata": {},
   "outputs": [
    {
     "data": {
      "text/html": [
       "<div>\n",
       "<style scoped>\n",
       "    .dataframe tbody tr th:only-of-type {\n",
       "        vertical-align: middle;\n",
       "    }\n",
       "\n",
       "    .dataframe tbody tr th {\n",
       "        vertical-align: top;\n",
       "    }\n",
       "\n",
       "    .dataframe thead th {\n",
       "        text-align: right;\n",
       "    }\n",
       "</style>\n",
       "<table border=\"1\" class=\"dataframe\">\n",
       "  <thead>\n",
       "    <tr style=\"text-align: right;\">\n",
       "      <th></th>\n",
       "      <th>Name</th>\n",
       "      <th>Platform</th>\n",
       "      <th>Year_of_Release</th>\n",
       "      <th>Genre</th>\n",
       "      <th>Publisher</th>\n",
       "      <th>NA_Sales</th>\n",
       "      <th>EU_Sales</th>\n",
       "      <th>JP_Sales</th>\n",
       "      <th>Other_Sales</th>\n",
       "      <th>Global_Sales</th>\n",
       "      <th>Critic_Score</th>\n",
       "      <th>Critic_Count</th>\n",
       "      <th>User_Score</th>\n",
       "      <th>User_Count</th>\n",
       "      <th>Developer</th>\n",
       "      <th>Rating</th>\n",
       "    </tr>\n",
       "  </thead>\n",
       "  <tbody>\n",
       "    <tr>\n",
       "      <th>0</th>\n",
       "      <td>Wii Sports</td>\n",
       "      <td>Wii</td>\n",
       "      <td>2006.0</td>\n",
       "      <td>Sports</td>\n",
       "      <td>Nintendo</td>\n",
       "      <td>41.36</td>\n",
       "      <td>28.96</td>\n",
       "      <td>3.77</td>\n",
       "      <td>8.45</td>\n",
       "      <td>82.53</td>\n",
       "      <td>76.0</td>\n",
       "      <td>51.0</td>\n",
       "      <td>8</td>\n",
       "      <td>322.0</td>\n",
       "      <td>Nintendo</td>\n",
       "      <td>E</td>\n",
       "    </tr>\n",
       "    <tr>\n",
       "      <th>1</th>\n",
       "      <td>Super Mario Bros.</td>\n",
       "      <td>NES</td>\n",
       "      <td>1985.0</td>\n",
       "      <td>Platform</td>\n",
       "      <td>Nintendo</td>\n",
       "      <td>29.08</td>\n",
       "      <td>3.58</td>\n",
       "      <td>6.81</td>\n",
       "      <td>0.77</td>\n",
       "      <td>40.24</td>\n",
       "      <td>NaN</td>\n",
       "      <td>NaN</td>\n",
       "      <td>NaN</td>\n",
       "      <td>NaN</td>\n",
       "      <td>NaN</td>\n",
       "      <td>NaN</td>\n",
       "    </tr>\n",
       "    <tr>\n",
       "      <th>2</th>\n",
       "      <td>Mario Kart Wii</td>\n",
       "      <td>Wii</td>\n",
       "      <td>2008.0</td>\n",
       "      <td>Racing</td>\n",
       "      <td>Nintendo</td>\n",
       "      <td>15.68</td>\n",
       "      <td>12.76</td>\n",
       "      <td>3.79</td>\n",
       "      <td>3.29</td>\n",
       "      <td>35.52</td>\n",
       "      <td>82.0</td>\n",
       "      <td>73.0</td>\n",
       "      <td>8.3</td>\n",
       "      <td>709.0</td>\n",
       "      <td>Nintendo</td>\n",
       "      <td>E</td>\n",
       "    </tr>\n",
       "    <tr>\n",
       "      <th>3</th>\n",
       "      <td>Wii Sports Resort</td>\n",
       "      <td>Wii</td>\n",
       "      <td>2009.0</td>\n",
       "      <td>Sports</td>\n",
       "      <td>Nintendo</td>\n",
       "      <td>15.61</td>\n",
       "      <td>10.93</td>\n",
       "      <td>3.28</td>\n",
       "      <td>2.95</td>\n",
       "      <td>32.77</td>\n",
       "      <td>80.0</td>\n",
       "      <td>73.0</td>\n",
       "      <td>8</td>\n",
       "      <td>192.0</td>\n",
       "      <td>Nintendo</td>\n",
       "      <td>E</td>\n",
       "    </tr>\n",
       "    <tr>\n",
       "      <th>4</th>\n",
       "      <td>Pokemon Red/Pokemon Blue</td>\n",
       "      <td>GB</td>\n",
       "      <td>1996.0</td>\n",
       "      <td>Role-Playing</td>\n",
       "      <td>Nintendo</td>\n",
       "      <td>11.27</td>\n",
       "      <td>8.89</td>\n",
       "      <td>10.22</td>\n",
       "      <td>1.00</td>\n",
       "      <td>31.37</td>\n",
       "      <td>NaN</td>\n",
       "      <td>NaN</td>\n",
       "      <td>NaN</td>\n",
       "      <td>NaN</td>\n",
       "      <td>NaN</td>\n",
       "      <td>NaN</td>\n",
       "    </tr>\n",
       "  </tbody>\n",
       "</table>\n",
       "</div>"
      ],
      "text/plain": [
       "                       Name Platform  Year_of_Release         Genre Publisher  \\\n",
       "0                Wii Sports      Wii           2006.0        Sports  Nintendo   \n",
       "1         Super Mario Bros.      NES           1985.0      Platform  Nintendo   \n",
       "2            Mario Kart Wii      Wii           2008.0        Racing  Nintendo   \n",
       "3         Wii Sports Resort      Wii           2009.0        Sports  Nintendo   \n",
       "4  Pokemon Red/Pokemon Blue       GB           1996.0  Role-Playing  Nintendo   \n",
       "\n",
       "   NA_Sales  EU_Sales  JP_Sales  Other_Sales  Global_Sales  Critic_Score  \\\n",
       "0     41.36     28.96      3.77         8.45         82.53          76.0   \n",
       "1     29.08      3.58      6.81         0.77         40.24           NaN   \n",
       "2     15.68     12.76      3.79         3.29         35.52          82.0   \n",
       "3     15.61     10.93      3.28         2.95         32.77          80.0   \n",
       "4     11.27      8.89     10.22         1.00         31.37           NaN   \n",
       "\n",
       "   Critic_Count User_Score  User_Count Developer Rating  \n",
       "0          51.0          8       322.0  Nintendo      E  \n",
       "1           NaN        NaN         NaN       NaN    NaN  \n",
       "2          73.0        8.3       709.0  Nintendo      E  \n",
       "3          73.0          8       192.0  Nintendo      E  \n",
       "4           NaN        NaN         NaN       NaN    NaN  "
      ]
     },
     "execution_count": 22,
     "metadata": {},
     "output_type": "execute_result"
    }
   ],
   "source": [
    "df.head()"
   ]
  },
  {
   "cell_type": "markdown",
   "id": "b6f36fe2",
   "metadata": {},
   "source": [
    "x = df.isnull().sum()"
   ]
  },
  {
   "cell_type": "markdown",
   "id": "fa3ed2ee",
   "metadata": {},
   "source": [
    "## TRy imputing with most frequent values \n",
    "## Drop and compare with most frequent in terms of the impact on the data distribution \n",
    "## "
   ]
  },
  {
   "cell_type": "markdown",
   "id": "79b54c81",
   "metadata": {},
   "source": [
    "## Handling data types"
   ]
  },
  {
   "attachments": {
    "image.png": {
     "image/png": "[encoded data removed]"
    }
   },
   "cell_type": "markdown",
   "id": "2be94f59",
   "metadata": {},
   "source": [
    "## Why?\n",
    "I read through the data dictionary of vgsale data to check the authors definition of the varbiale Dtype. In comparism to the  data dictionary dtypes of variables, i found in the info out come that variables ['year-of-realease', 'critic-scores', 'Critic_Count', 'User_Score', 'User_count'] where not in the defined dtypes as defined in the data dictionary. \n",
    "\n",
    "### What is data type and its importance:\n",
    "Datatypes can in literal term be refered to as the definition of the data in a variable. (Arora, 2021) defined dataypes as  classifying or categorizing data objects based on their characteristics and behavior. They are assigned to variables based on what the data the variable holds mean and it is a guide for how those data should be treated. Broadly, data can be either numerical or non-numerical. In python, numerical data can be (float: numbers with decimal point) or (integer: numbers without decimal point), according to some authors complext numbers can also be defined as numerical(Arora, 2021). Non-numerical dtype are other types of datas that are not numbers. Non-numerical data could be unique texts(string) or categorical texts (Arora, 2021). It was important for me to know what the datatypes of all variables are in other to guide me on how to work with this variables. \n",
    "\n",
    "As earlier sated, some varibales in the df had significant proportion of missing values. Handling numerical variables missing values, and handling non-numerical variable missing values takes diffrent approach. So before i went futher to determine how to handle the missing values, i checked the data types. \n",
    "\n",
    "### Handling incorrect data types: \n",
    "\n",
    "Initially, i tries to convert the incorrect data types to the correct type by using the method 'astype()'. To cover integer variables [Year_of_Release, Critic_Score, Critic_Count, User_Count]  to int,  i used \"df['for-example'].astype(int)\" code syntax initially 'for-example' to simulate each of those variables. Outcome of all 4 code run for [Year_of_Release, Critic_Score, Critic_Count, User_Count], was fig(***confirm number***)\n",
    "\n",
    "![image.png](attachment:image.png)\n",
    "\n",
    "fig(***confirm number***)\n",
    "\n",
    "### IntCastingNaNError\n",
    "This was the error message i got when i tried to convert ['Year_of_Release', 'Critic_Score', 'Critic_Count', 'User_Count'] variables to integer as defined by dictionary using the above code syntax. 'IncastingNANError' is an exception error, this exception is raised when converting a variable that has NAN present to an integer (Pandas, 2024). This definition is consistent with the problem at hand. I still have NAN all the variables because they are signignificant proportion so i intend not to drop. I tried to convert the datatypes before handling NAN because, having the data is the correct data type according to data dictionary is imperative to handling the null-values the most appropriate way. \n",
    "\n",
    "### Handling IntCastingNaNError\n",
    "\n",
    "In other to fix the IntCastingNaNError, i have to deal with the NAN before i can convert the variables to the right dtype. In other to deal with NAN, i either use imputation method or drop method (Data cleaning note, 2023). I could not use drop method in this circumstance because, the propotion of the NAN are very significant, drop method should not be used when the quantity of data will be significant to the overall data size and can potentially impact the truness of the data (Tamboli, 2021). So imputation method is most appropriate in this context. It is however worth noteing that there is no method of imputation used that will not imapact the truness of the data, the most appropriate just have to be used in each context (Data cleaning note, 2023). To do this i need to have the variables in the right data type, which is why i could not imput the NAN now since the variables have not been converted to the right dtype. \n",
    "\n",
    "\n",
    "This feature is particularly useful when working with integer data that may have missing values, as it allows you to handle missing data more effectively without resorting to floating-point representations or object arrays.\n",
    "\n",
    "\n",
    "### Converting Nullable integer data type ('Int64')\n",
    "Because I could not drop or imput the NAN yet, I have to find a way to work around them, without 'IncastingError'. Pandas by default does not allow NAN to be present in an integer column hence the 'incastingerror'. However converting the column to Nullable integer datatype which i  bascicaly understand it means 'intgers that allows null-values', allows both the numerical variables to be converter to normal 'int' at thesame time keeping the NAN intact\n",
    "***Syntax: df['Year_of_Release'].astype('Int64')***. \n",
    "\n",
    "In other to check the nan havent changed, i called 'isnull.sum()' method on variable 'Critic_Score' and output shows nan remained unchanged. \n",
    "\n",
    "In summar, i was able to convert ['Year_of_Release', 'Critic_Score', 'Critic_Count', 'User_Count'] to integers using 'Int64' without dropping or imputting the nan. Now i can deal with the null-vales in each variable individually. "
   ]
  },
  {
   "cell_type": "code",
   "execution_count": 23,
   "id": "c544797a",
   "metadata": {
    "collapsed": true
   },
   "outputs": [
    {
     "data": {
      "text/plain": [
       "Name                object\n",
       "Platform            object\n",
       "Year_of_Release    float64\n",
       "Genre               object\n",
       "Publisher           object\n",
       "NA_Sales           float64\n",
       "EU_Sales           float64\n",
       "JP_Sales           float64\n",
       "Other_Sales        float64\n",
       "Global_Sales       float64\n",
       "Critic_Score       float64\n",
       "Critic_Count       float64\n",
       "User_Score          object\n",
       "User_Count         float64\n",
       "Developer           object\n",
       "Rating              object\n",
       "dtype: object"
      ]
     },
     "execution_count": 23,
     "metadata": {},
     "output_type": "execute_result"
    }
   ],
   "source": [
    "df.dtypes"
   ]
  },
  {
   "cell_type": "code",
   "execution_count": 24,
   "id": "7354d475",
   "metadata": {},
   "outputs": [],
   "source": [
    "df['Year_of_Release']= df['Year_of_Release'].astype('Int64')"
   ]
  },
  {
   "cell_type": "code",
   "execution_count": 25,
   "id": "8bfcdc52",
   "metadata": {},
   "outputs": [],
   "source": [
    "df['Critic_Score']= df['Critic_Score'].astype('Int64')# Converting critic score to floate from integer "
   ]
  },
  {
   "cell_type": "code",
   "execution_count": 26,
   "id": "de44de98",
   "metadata": {},
   "outputs": [
    {
     "data": {
      "text/plain": [
       "8582"
      ]
     },
     "execution_count": 26,
     "metadata": {},
     "output_type": "execute_result"
    }
   ],
   "source": [
    "df['Critic_Score'].isnull().sum()"
   ]
  },
  {
   "cell_type": "code",
   "execution_count": 27,
   "id": "f38e91c9",
   "metadata": {},
   "outputs": [],
   "source": [
    "df['Critic_Count']= df['Critic_Count'].astype('Int64')# Converting critic score to floate from integer"
   ]
  },
  {
   "cell_type": "code",
   "execution_count": 28,
   "id": "2ea175c8",
   "metadata": {},
   "outputs": [],
   "source": [
    "#df['User_Score'].astype(float)# Converting critic score to floate from integer"
   ]
  },
  {
   "cell_type": "raw",
   "id": "4c0e6161",
   "metadata": {},
   "source": [
    "df['User_Count'].astype(int)"
   ]
  },
  {
   "attachments": {
    "image.png": {
     "image/png": "[encoded data removed]"
    }
   },
   "cell_type": "markdown",
   "id": "1156a6e5",
   "metadata": {},
   "source": [
    "![image.png](attachment:image.png)"
   ]
  },
  {
   "cell_type": "code",
   "execution_count": 29,
   "id": "b590fdf0",
   "metadata": {
    "collapsed": true
   },
   "outputs": [
    {
     "data": {
      "text/plain": [
       "Name                  2\n",
       "Platform              0\n",
       "Year_of_Release     269\n",
       "Genre                 2\n",
       "Publisher            54\n",
       "NA_Sales              0\n",
       "EU_Sales              0\n",
       "JP_Sales              0\n",
       "Other_Sales           0\n",
       "Global_Sales          0\n",
       "Critic_Score       8582\n",
       "Critic_Count       8582\n",
       "User_Score         6704\n",
       "User_Count         9129\n",
       "Developer          6623\n",
       "Rating             6769\n",
       "dtype: int64"
      ]
     },
     "execution_count": 29,
     "metadata": {},
     "output_type": "execute_result"
    }
   ],
   "source": [
    "df.isnull().sum()"
   ]
  },
  {
   "cell_type": "code",
   "execution_count": 30,
   "id": "888cca90",
   "metadata": {
    "collapsed": true
   },
   "outputs": [
    {
     "data": {
      "text/plain": [
       "Name                object\n",
       "Platform            object\n",
       "Year_of_Release      Int64\n",
       "Genre               object\n",
       "Publisher           object\n",
       "NA_Sales           float64\n",
       "EU_Sales           float64\n",
       "JP_Sales           float64\n",
       "Other_Sales        float64\n",
       "Global_Sales       float64\n",
       "Critic_Score         Int64\n",
       "Critic_Count         Int64\n",
       "User_Score          object\n",
       "User_Count         float64\n",
       "Developer           object\n",
       "Rating              object\n",
       "dtype: object"
      ]
     },
     "execution_count": 30,
     "metadata": {},
     "output_type": "execute_result"
    }
   ],
   "source": [
    "df.dtypes"
   ]
  },
  {
   "cell_type": "code",
   "execution_count": 31,
   "id": "6a6646a4",
   "metadata": {},
   "outputs": [],
   "source": [
    "#df.drop(['Year_of_Releasr'], axis=1, inplace =True)"
   ]
  },
  {
   "cell_type": "code",
   "execution_count": 32,
   "id": "dbd01e66",
   "metadata": {
    "collapsed": true
   },
   "outputs": [
    {
     "data": {
      "text/plain": [
       "Name                object\n",
       "Platform            object\n",
       "Year_of_Release      Int64\n",
       "Genre               object\n",
       "Publisher           object\n",
       "NA_Sales           float64\n",
       "EU_Sales           float64\n",
       "JP_Sales           float64\n",
       "Other_Sales        float64\n",
       "Global_Sales       float64\n",
       "Critic_Score         Int64\n",
       "Critic_Count         Int64\n",
       "User_Score          object\n",
       "User_Count         float64\n",
       "Developer           object\n",
       "Rating              object\n",
       "dtype: object"
      ]
     },
     "execution_count": 32,
     "metadata": {},
     "output_type": "execute_result"
    }
   ],
   "source": [
    "df.dtypes"
   ]
  },
  {
   "cell_type": "code",
   "execution_count": 33,
   "id": "f51783d8",
   "metadata": {
    "collapsed": true
   },
   "outputs": [
    {
     "data": {
      "text/plain": [
       "tbd    2425\n",
       "7.8     324\n",
       "8       290\n",
       "8.2     282\n",
       "8.3     254\n",
       "       ... \n",
       "1.1       2\n",
       "1.9       2\n",
       "9.6       2\n",
       "0         1\n",
       "9.7       1\n",
       "Name: User_Score, Length: 96, dtype: int64"
      ]
     },
     "execution_count": 33,
     "metadata": {},
     "output_type": "execute_result"
    }
   ],
   "source": [
    "df['User_Score'].value_counts()"
   ]
  },
  {
   "attachments": {
    "image.png": {
     "image/png": "[encoded data removed]"
    }
   },
   "cell_type": "markdown",
   "id": "e3b7d326",
   "metadata": {},
   "source": [
    "I droped 'Year_of_Releasr' permanently from the dataframe because i created it in error while i was trying to assings astype code to 'year_of_relase'. To do this i called the function drop on df and 'axis=1' means that a column should be dropped, and 'inplace=True' means that 'Year_of_Releasr'should be drop permanently in the main df. This was why i did this: \"df.drop(['Year_of_Releasr'], axis=1, inplace =True)\".\n",
    "I the next line of code \"df.dtypes\", i called it to check if the drop operation was effected by checking the variables in df. \n",
    "The reason a used '.dtypes' and not other operation for example df.head to check the dataframe was also that i wanted to chech the dtypes of all variables to confirm the 'astype' mthod had bee applied correctly to the df. Output shows that 15 of 16 variables are now in the correct data types but 'User_Score' is not. \n",
    "\n",
    "### Problem with 'User_Score'\n",
    "Couple of probles with the 'User_Score' column. Like other numerical columns, 'User_Score' data type was also incorrect, so i tried to convert it to the correct datatype using 'df['User_Score'].astype(float)' but it did not work. 'Valueerror' output was produced as shown in fig(***confirm fig***)\n",
    "\n",
    "![image.png](attachment:image.png)\n",
    "fig(***confirm fig***)\n",
    "\n",
    "### ValueError\n",
    "This is an exception error that is raised in pyton when pyhton find an incorrect value. I gave a command that says \"convert all values in 'user_score' to float. Given that float is a numerical datatype, python was expecting to have all values in numerical form. But in the 'user_score' variable, pthon found the value 'tbd' which proberble means 'to be determined', this value is a string. Hence why the value exception was rasied as shown in fig(***to be communicated**)"
   ]
  },
  {
   "attachments": {
    "Screenshot%202024-03-22%20180844.png": {
     "image/png": "[encoded data removed]"
    }
   },
   "cell_type": "markdown",
   "id": "7f22877c",
   "metadata": {},
   "source": [
    "![Screenshot%202024-03-22%20180844.png](attachment:Screenshot%202024-03-22%20180844.png)\n",
    "\n",
    "fig(***to be communicated**)"
   ]
  },
  {
   "cell_type": "code",
   "execution_count": 34,
   "id": "5bfb0037",
   "metadata": {
    "collapsed": true
   },
   "outputs": [
    {
     "data": {
      "text/plain": [
       "Name                  2\n",
       "Platform              0\n",
       "Year_of_Release     269\n",
       "Genre                 2\n",
       "Publisher            54\n",
       "NA_Sales              0\n",
       "EU_Sales              0\n",
       "JP_Sales              0\n",
       "Other_Sales           0\n",
       "Global_Sales          0\n",
       "Critic_Score       8582\n",
       "Critic_Count       8582\n",
       "User_Score         6704\n",
       "User_Count         9129\n",
       "Developer          6623\n",
       "Rating             6769\n",
       "dtype: int64"
      ]
     },
     "execution_count": 34,
     "metadata": {},
     "output_type": "execute_result"
    }
   ],
   "source": [
    "df.isnull().sum()"
   ]
  },
  {
   "attachments": {
    "image.png": {
     "image/png": "[encoded data removed]"
    }
   },
   "cell_type": "markdown",
   "id": "4f49a6dc",
   "metadata": {},
   "source": [
    "![image.png](attachment:image.png)\n",
    "\n",
    "As shown above, one of the unique values in 'user_score' is an object 'tbd'. For this reason error was retured when i tried to conver the variable from object to float. \n",
    "### Handling it. \n",
    "1. I am goint to count how many 'tbd' we have in the variable\n",
    "2. Then...\n",
    "\n",
    "# Next\n",
    "1. Read of ways to deal with tbd\n",
    "2. And handdlin NaN. "
   ]
  },
  {
   "cell_type": "code",
   "execution_count": 35,
   "id": "cf39faaa",
   "metadata": {},
   "outputs": [
    {
     "data": {
      "text/html": [
       "<div>\n",
       "<style scoped>\n",
       "    .dataframe tbody tr th:only-of-type {\n",
       "        vertical-align: middle;\n",
       "    }\n",
       "\n",
       "    .dataframe tbody tr th {\n",
       "        vertical-align: top;\n",
       "    }\n",
       "\n",
       "    .dataframe thead th {\n",
       "        text-align: right;\n",
       "    }\n",
       "</style>\n",
       "<table border=\"1\" class=\"dataframe\">\n",
       "  <thead>\n",
       "    <tr style=\"text-align: right;\">\n",
       "      <th></th>\n",
       "      <th>Name</th>\n",
       "      <th>Platform</th>\n",
       "      <th>Year_of_Release</th>\n",
       "      <th>Genre</th>\n",
       "      <th>Publisher</th>\n",
       "      <th>NA_Sales</th>\n",
       "      <th>EU_Sales</th>\n",
       "      <th>JP_Sales</th>\n",
       "      <th>Other_Sales</th>\n",
       "      <th>Global_Sales</th>\n",
       "      <th>Critic_Score</th>\n",
       "      <th>Critic_Count</th>\n",
       "      <th>User_Score</th>\n",
       "      <th>User_Count</th>\n",
       "      <th>Developer</th>\n",
       "      <th>Rating</th>\n",
       "    </tr>\n",
       "  </thead>\n",
       "  <tbody>\n",
       "    <tr>\n",
       "      <th>0</th>\n",
       "      <td>Wii Sports</td>\n",
       "      <td>Wii</td>\n",
       "      <td>2006</td>\n",
       "      <td>Sports</td>\n",
       "      <td>Nintendo</td>\n",
       "      <td>41.36</td>\n",
       "      <td>28.96</td>\n",
       "      <td>3.77</td>\n",
       "      <td>8.45</td>\n",
       "      <td>82.53</td>\n",
       "      <td>76</td>\n",
       "      <td>51</td>\n",
       "      <td>8</td>\n",
       "      <td>322.0</td>\n",
       "      <td>Nintendo</td>\n",
       "      <td>E</td>\n",
       "    </tr>\n",
       "    <tr>\n",
       "      <th>1</th>\n",
       "      <td>Super Mario Bros.</td>\n",
       "      <td>NES</td>\n",
       "      <td>1985</td>\n",
       "      <td>Platform</td>\n",
       "      <td>Nintendo</td>\n",
       "      <td>29.08</td>\n",
       "      <td>3.58</td>\n",
       "      <td>6.81</td>\n",
       "      <td>0.77</td>\n",
       "      <td>40.24</td>\n",
       "      <td>&lt;NA&gt;</td>\n",
       "      <td>&lt;NA&gt;</td>\n",
       "      <td>NaN</td>\n",
       "      <td>NaN</td>\n",
       "      <td>NaN</td>\n",
       "      <td>NaN</td>\n",
       "    </tr>\n",
       "    <tr>\n",
       "      <th>2</th>\n",
       "      <td>Mario Kart Wii</td>\n",
       "      <td>Wii</td>\n",
       "      <td>2008</td>\n",
       "      <td>Racing</td>\n",
       "      <td>Nintendo</td>\n",
       "      <td>15.68</td>\n",
       "      <td>12.76</td>\n",
       "      <td>3.79</td>\n",
       "      <td>3.29</td>\n",
       "      <td>35.52</td>\n",
       "      <td>82</td>\n",
       "      <td>73</td>\n",
       "      <td>8.3</td>\n",
       "      <td>709.0</td>\n",
       "      <td>Nintendo</td>\n",
       "      <td>E</td>\n",
       "    </tr>\n",
       "    <tr>\n",
       "      <th>3</th>\n",
       "      <td>Wii Sports Resort</td>\n",
       "      <td>Wii</td>\n",
       "      <td>2009</td>\n",
       "      <td>Sports</td>\n",
       "      <td>Nintendo</td>\n",
       "      <td>15.61</td>\n",
       "      <td>10.93</td>\n",
       "      <td>3.28</td>\n",
       "      <td>2.95</td>\n",
       "      <td>32.77</td>\n",
       "      <td>80</td>\n",
       "      <td>73</td>\n",
       "      <td>8</td>\n",
       "      <td>192.0</td>\n",
       "      <td>Nintendo</td>\n",
       "      <td>E</td>\n",
       "    </tr>\n",
       "    <tr>\n",
       "      <th>4</th>\n",
       "      <td>Pokemon Red/Pokemon Blue</td>\n",
       "      <td>GB</td>\n",
       "      <td>1996</td>\n",
       "      <td>Role-Playing</td>\n",
       "      <td>Nintendo</td>\n",
       "      <td>11.27</td>\n",
       "      <td>8.89</td>\n",
       "      <td>10.22</td>\n",
       "      <td>1.00</td>\n",
       "      <td>31.37</td>\n",
       "      <td>&lt;NA&gt;</td>\n",
       "      <td>&lt;NA&gt;</td>\n",
       "      <td>NaN</td>\n",
       "      <td>NaN</td>\n",
       "      <td>NaN</td>\n",
       "      <td>NaN</td>\n",
       "    </tr>\n",
       "  </tbody>\n",
       "</table>\n",
       "</div>"
      ],
      "text/plain": [
       "                       Name Platform  Year_of_Release         Genre Publisher  \\\n",
       "0                Wii Sports      Wii             2006        Sports  Nintendo   \n",
       "1         Super Mario Bros.      NES             1985      Platform  Nintendo   \n",
       "2            Mario Kart Wii      Wii             2008        Racing  Nintendo   \n",
       "3         Wii Sports Resort      Wii             2009        Sports  Nintendo   \n",
       "4  Pokemon Red/Pokemon Blue       GB             1996  Role-Playing  Nintendo   \n",
       "\n",
       "   NA_Sales  EU_Sales  JP_Sales  Other_Sales  Global_Sales  Critic_Score  \\\n",
       "0     41.36     28.96      3.77         8.45         82.53            76   \n",
       "1     29.08      3.58      6.81         0.77         40.24          <NA>   \n",
       "2     15.68     12.76      3.79         3.29         35.52            82   \n",
       "3     15.61     10.93      3.28         2.95         32.77            80   \n",
       "4     11.27      8.89     10.22         1.00         31.37          <NA>   \n",
       "\n",
       "   Critic_Count User_Score  User_Count Developer Rating  \n",
       "0            51          8       322.0  Nintendo      E  \n",
       "1          <NA>        NaN         NaN       NaN    NaN  \n",
       "2            73        8.3       709.0  Nintendo      E  \n",
       "3            73          8       192.0  Nintendo      E  \n",
       "4          <NA>        NaN         NaN       NaN    NaN  "
      ]
     },
     "execution_count": 35,
     "metadata": {},
     "output_type": "execute_result"
    }
   ],
   "source": [
    "df.head()"
   ]
  },
  {
   "cell_type": "code",
   "execution_count": 36,
   "id": "38ef6989",
   "metadata": {},
   "outputs": [
    {
     "data": {
      "text/html": [
       "<div>\n",
       "<style scoped>\n",
       "    .dataframe tbody tr th:only-of-type {\n",
       "        vertical-align: middle;\n",
       "    }\n",
       "\n",
       "    .dataframe tbody tr th {\n",
       "        vertical-align: top;\n",
       "    }\n",
       "\n",
       "    .dataframe thead th {\n",
       "        text-align: right;\n",
       "    }\n",
       "</style>\n",
       "<table border=\"1\" class=\"dataframe\">\n",
       "  <thead>\n",
       "    <tr style=\"text-align: right;\">\n",
       "      <th></th>\n",
       "      <th>Year_of_Release</th>\n",
       "      <th>NA_Sales</th>\n",
       "      <th>EU_Sales</th>\n",
       "      <th>JP_Sales</th>\n",
       "      <th>Other_Sales</th>\n",
       "      <th>Global_Sales</th>\n",
       "      <th>Critic_Score</th>\n",
       "      <th>Critic_Count</th>\n",
       "      <th>User_Count</th>\n",
       "    </tr>\n",
       "  </thead>\n",
       "  <tbody>\n",
       "    <tr>\n",
       "      <th>count</th>\n",
       "      <td>16450.0</td>\n",
       "      <td>16719.000000</td>\n",
       "      <td>16719.000000</td>\n",
       "      <td>16719.000000</td>\n",
       "      <td>16719.000000</td>\n",
       "      <td>16719.000000</td>\n",
       "      <td>8137.0</td>\n",
       "      <td>8137.0</td>\n",
       "      <td>7590.000000</td>\n",
       "    </tr>\n",
       "    <tr>\n",
       "      <th>mean</th>\n",
       "      <td>2006.487356</td>\n",
       "      <td>0.263330</td>\n",
       "      <td>0.145025</td>\n",
       "      <td>0.077602</td>\n",
       "      <td>0.047332</td>\n",
       "      <td>0.533543</td>\n",
       "      <td>68.967679</td>\n",
       "      <td>26.360821</td>\n",
       "      <td>162.229908</td>\n",
       "    </tr>\n",
       "    <tr>\n",
       "      <th>std</th>\n",
       "      <td>5.878995</td>\n",
       "      <td>0.813514</td>\n",
       "      <td>0.503283</td>\n",
       "      <td>0.308818</td>\n",
       "      <td>0.186710</td>\n",
       "      <td>1.547935</td>\n",
       "      <td>13.938165</td>\n",
       "      <td>18.980495</td>\n",
       "      <td>561.282326</td>\n",
       "    </tr>\n",
       "    <tr>\n",
       "      <th>min</th>\n",
       "      <td>1980.0</td>\n",
       "      <td>0.000000</td>\n",
       "      <td>0.000000</td>\n",
       "      <td>0.000000</td>\n",
       "      <td>0.000000</td>\n",
       "      <td>0.010000</td>\n",
       "      <td>13.0</td>\n",
       "      <td>3.0</td>\n",
       "      <td>4.000000</td>\n",
       "    </tr>\n",
       "    <tr>\n",
       "      <th>25%</th>\n",
       "      <td>2003.0</td>\n",
       "      <td>0.000000</td>\n",
       "      <td>0.000000</td>\n",
       "      <td>0.000000</td>\n",
       "      <td>0.000000</td>\n",
       "      <td>0.060000</td>\n",
       "      <td>60.0</td>\n",
       "      <td>12.0</td>\n",
       "      <td>10.000000</td>\n",
       "    </tr>\n",
       "    <tr>\n",
       "      <th>50%</th>\n",
       "      <td>2007.0</td>\n",
       "      <td>0.080000</td>\n",
       "      <td>0.020000</td>\n",
       "      <td>0.000000</td>\n",
       "      <td>0.010000</td>\n",
       "      <td>0.170000</td>\n",
       "      <td>71.0</td>\n",
       "      <td>21.0</td>\n",
       "      <td>24.000000</td>\n",
       "    </tr>\n",
       "    <tr>\n",
       "      <th>75%</th>\n",
       "      <td>2010.0</td>\n",
       "      <td>0.240000</td>\n",
       "      <td>0.110000</td>\n",
       "      <td>0.040000</td>\n",
       "      <td>0.030000</td>\n",
       "      <td>0.470000</td>\n",
       "      <td>79.0</td>\n",
       "      <td>36.0</td>\n",
       "      <td>81.000000</td>\n",
       "    </tr>\n",
       "    <tr>\n",
       "      <th>max</th>\n",
       "      <td>2020.0</td>\n",
       "      <td>41.360000</td>\n",
       "      <td>28.960000</td>\n",
       "      <td>10.220000</td>\n",
       "      <td>10.570000</td>\n",
       "      <td>82.530000</td>\n",
       "      <td>98.0</td>\n",
       "      <td>113.0</td>\n",
       "      <td>10665.000000</td>\n",
       "    </tr>\n",
       "  </tbody>\n",
       "</table>\n",
       "</div>"
      ],
      "text/plain": [
       "       Year_of_Release      NA_Sales      EU_Sales      JP_Sales  \\\n",
       "count          16450.0  16719.000000  16719.000000  16719.000000   \n",
       "mean       2006.487356      0.263330      0.145025      0.077602   \n",
       "std           5.878995      0.813514      0.503283      0.308818   \n",
       "min             1980.0      0.000000      0.000000      0.000000   \n",
       "25%             2003.0      0.000000      0.000000      0.000000   \n",
       "50%             2007.0      0.080000      0.020000      0.000000   \n",
       "75%             2010.0      0.240000      0.110000      0.040000   \n",
       "max             2020.0     41.360000     28.960000     10.220000   \n",
       "\n",
       "        Other_Sales  Global_Sales  Critic_Score  Critic_Count    User_Count  \n",
       "count  16719.000000  16719.000000        8137.0        8137.0   7590.000000  \n",
       "mean       0.047332      0.533543     68.967679     26.360821    162.229908  \n",
       "std        0.186710      1.547935     13.938165     18.980495    561.282326  \n",
       "min        0.000000      0.010000          13.0           3.0      4.000000  \n",
       "25%        0.000000      0.060000          60.0          12.0     10.000000  \n",
       "50%        0.010000      0.170000          71.0          21.0     24.000000  \n",
       "75%        0.030000      0.470000          79.0          36.0     81.000000  \n",
       "max       10.570000     82.530000          98.0         113.0  10665.000000  "
      ]
     },
     "execution_count": 36,
     "metadata": {},
     "output_type": "execute_result"
    }
   ],
   "source": [
    "df.describe()"
   ]
  },
  {
   "cell_type": "markdown",
   "id": "73b796e5",
   "metadata": {},
   "source": [
    "### Statistical summary\n",
    "Before handling the null-values in the dataset, i wanted to have a based summary of the numerical variables in df. \n",
    "\n",
    "#### Why?\n",
    "The games dataset 'df' i have found to have a significant proportion of null-values compaed to actual recorded values in some categorical and numerical variables. Bearing in mind the information provided in class during data preparation, which assumes that there is no method either droping or imputation that we use to handle null-values that does not have some impact of the truness of the data, the choice is always subject to the most appropriate method to use given each circumstances (Data prep note, 2023). Foe reason, i decided to have a based summary before handling the nan and then comparing descriptive result after cleaning to before cleaning.\n",
    "\n",
    "### Summary Table:\n",
    "\n",
    "Summary table or statistical summary table provides a comprehensive description of a dataset's central tendency, spread, and distribution for each numerical variable (Yıldırım, 2022). Statistics summary gives a high-level idea to identify whether the data has any outliers, data entry error, distribution of data such as the data is normally distributed or left/right skewed (Mahadevan, 2022). Discriptive statistics has two broad aspect namely summarization and viasulaisation. It is a branch of statististical analysis, that involves summarizing, organizing, and presenting data in a concise and meaniful way (simplilearn, 2021). Descriptive statistis however does not make any genralized conlusion on a general population, for instatce the descriptive statistical result of 'df' is not a representation of all the customers in 'Video games copampany', it only foucuses on decribing the columns in 'df'(simplilearn, 2021). Descriptive statistics summarizes the measure of central tentency (location), and variability in each column of a dataset(Torres-Reyna, 2008).\n",
    "\n",
    "### Why '.describe()' method:\n",
    "\n",
    "I have used '.describe' method in pandas to statistically summarise the numerical variables in df. My default this 'df.describe' code only summarises numerical variables, which is the reason why only 9 or 16 variables where summarise in the statistic table. I use the 'describe' method on df because it is a quick and easy way to get statistical insight in a sigle table, aas compared to calling specific stat function each varibale which will definately be messy and uneasy to keep track. Also i used the default method of describing first because i like to speaparate summary of categorical variables and numerical varibles fro each other for easy record and context. \n",
    "\n",
    "### Measure of central tendency (Location)\n",
    "This gives an insight into the distribution of data. The central tentency shows the middle of the data and to analysis this we use the 5 number summary. \n",
    "##### Five Number summary\n",
    "Five number summary means summarising data under five heads namely: Mean, median, Mode, Min and Max. \n",
    "1. ***Mean:*** This is the average of the observations in a column. It is calculated by summing together all observations in a variable and dividing the sum by the count of all observation. In 'chur' the mean of any variable would be the sum of all variables divided by 10000. It is the most common indicator of central tentendcy (Torres-Reyna, 2008)\n",
    "2. ***Median:*** This is the middle or average of the middle observations of a variable after the ovservations have been sorted in accessending order i.e from lowest observation to the highest. This in our number summary would be the 50% of the variable. It is another measure of central tendency (Torres-Reyna, 2008).\n",
    "3. ***Mode:*** Mode refers to the most frequent observation in a given variable. \n",
    "4. ***Min:*** This is simple the minimum value in each variable. \n",
    "5. ***Max:*** This is the maximum value in each varible. \n",
    "With this five statistical operations, we can summarise the locations of observations in each variable.\n",
    "##### Variability\n",
    "In addition to knowing locations of our observations, it is important to explore the variablility of the observations from the mean (50%). To do this we would have to calculate: Variance, range, and Starndard deviation. \n",
    "\n",
    "6. ***Variance:**** Variance as the name implies, is the measure of dispersion of data from the mean (50%) (Torres-Reyna, 2008). This is calculated by squaring the diffrence between mean and each observation in a column i.e (each column observation minus mean of the column), and dividing the summation of squares by the to total number of observation minus 1 (Hayes, 2023).\n",
    "7. ***Stardard deviation:*** Standard deviation is the square root of variance. Variables with high stardard deviation relative to the mean have their datas spread out from the mean, while those with small standard deviation have their datas tightly grouped close to the mean.\n",
    "\n",
    "### Insight from statistical table:\n",
    "\n",
    "The ***count*** parameter describes the shape of each varible. Statistical description show there are 16719 observations for 5 of 9 numerical observation namely [NA_Sales, EU_Sales, JP_Sales, Other_Sales, Global_Sales] suggesting there are no null values in this variables, while other numerical variables namely: [Year_of_Release, Critic_Score, Critic_Count, User_Count numerical] are less than the len of observation. The diffrence between this varibles and the actual number of observation in 'df' (16719) is the number of null-values present in those variabes. This result corroborate with earlier findings that shows the count of NAN present in this variables in 'df'.\n",
    "\n",
    "The ***Min&Max*** as the name implies is the minumum and maximum observation in each variable, in [NA_Sales, EU_Sales, JP_Sales, Other_Sales, Global_Sales] variables the highest observations are [41.360000, 28.960000, 10.220000, 10.570000, 82.530000] and lowest observations are [0.000000, 0.000000, 0.000000, 0.000000, 0.010000] respectively. while in the [Year_of_Release, Critic_Score, Critic_Count, User_Count] the highest observation are [2020, 98.0, 113.0, 10665.000000] and lowest are [1980, 13.0\t3.0, 4.000000] repectively.  This indicates the latest release year, the highest critic score, the highest number of critic counts, and the largest user count. The lowest observations in these categories are 1980 for Year_of_Release, 13.0 for Critic_Score, 3.0 for Critic_Count, and 4.000000 for User_Count, providing a snapshot of the earliest release year, the lowest critic score, the lowest number of critic counts, and the smallest user count in the dataset.\n",
    "\n",
    "The ***Mean*** is the average of variables, the average year of game realease, critic_score, Critic_Count and User_Count is 2006, 68.97, 26.36 and 162.23 respectively. While the average sale in North America, Europian union and Japan are 0.263330\t0.15, 0.078 respectively while other region sal average is 0.047. The median is the center of the distribution on a bell curve, therefore median in comparison to the mean gives us an insigh to the shape of the numerical variables. In genral the meand and the median should be the same in a gaussian distrubuted variable, but looking at the statitical summary table, non of the 9 numerical variables have thesame mean and median which suggest all numerical variables are skewed slightly. Some such as all the region sales, critic-count, user_count are right - skewed because the mean is higer than the median while the rest are left-skewed beause the mean is lower than the median. \n",
    "\n",
    "### In summary:\n",
    "In summary, statistical insight shows the following:\n",
    "1. The all the numerical variables are skewed in some respect rightly or leftly. \n",
    "2. The range of the observation is large as many of the variables have a high diffrence between the min and max observations.\n",
    "3. The first year of video game release was 1980 and the last year accoring to df when video game was released was year 2020. "
   ]
  },
  {
   "cell_type": "code",
   "execution_count": 37,
   "id": "b8ec157f",
   "metadata": {},
   "outputs": [
    {
     "data": {
      "text/plain": [
       "(16719, 16)"
      ]
     },
     "execution_count": 37,
     "metadata": {},
     "output_type": "execute_result"
    }
   ],
   "source": [
    "df.shape"
   ]
  },
  {
   "cell_type": "code",
   "execution_count": 38,
   "id": "f633dd53",
   "metadata": {},
   "outputs": [],
   "source": [
    "oosix = df[df['Year_of_Release']==2008].shape[0]"
   ]
  },
  {
   "cell_type": "code",
   "execution_count": 39,
   "id": "fdadc909",
   "metadata": {},
   "outputs": [
    {
     "data": {
      "text/plain": [
       "1427"
      ]
     },
     "execution_count": 39,
     "metadata": {},
     "output_type": "execute_result"
    }
   ],
   "source": [
    "oosix"
   ]
  },
  {
   "cell_type": "markdown",
   "id": "534fcb83",
   "metadata": {},
   "source": [
    "### What's Next\n",
    "1. Drop the Nan in name (Because names are unique and filling it with unknow wont provide any context)\n",
    "2. Drop Nan in year of relase (Years are also actual numbers used to describe rader than mesure. or example year cant be 2004.78. Imputing this values makes year out of use.)\n",
    "3. Flag the NAN in categorical varibles like [publisher, developer, rating ...] with 'unknown'\n",
    "4. Doro rows with tbd but save this on in a new df and dont effect this change in the main df. Because you can acess the info if you need them after the company probaly provide some more info in the tbd 'u_score'."
   ]
  },
  {
   "cell_type": "markdown",
   "id": "7cb1f2b9",
   "metadata": {},
   "source": [
    "## Refrences\n",
    "3. Torres-Reyna, O. (2008). Data Preparation & Descriptive Statistics. [online] Available at: https://www.princeton.edu/~otorres/DataPrep101.pdf [Accessed 14 May 2022].\n",
    "4. Mahadevan, M. (2022). Step-by-Step Exploratory Data Analysis (EDA) using Python -. [online] Analytics Vidhya. Available at: https://www.analyticsvidhya.com/blog/2022/07/step-by-step-exploratory-data-analysis-eda-using-python/.\n",
    "5. "
   ]
  }
 ],
 "metadata": {
  "kernelspec": {
   "display_name": "Python 3 (ipykernel)",
   "language": "python",
   "name": "python3"
  },
  "language_info": {
   "codemirror_mode": {
    "name": "ipython",
    "version": 3
   },
   "file_extension": ".py",
   "mimetype": "text/x-python",
   "name": "python",
   "nbconvert_exporter": "python",
   "pygments_lexer": "ipython3",
   "version": "3.11.4"
  }
 },
 "nbformat": 4,
 "nbformat_minor": 5
}
