{
 "cells": [
  {
   "cell_type": "markdown",
   "id": "5e03f9a7",
   "metadata": {},
   "source": [
    "## Task:\n",
    "1. Read file\n",
    "2. Explore file (EDA) \n",
    "3. Statisctical analysis\n",
    "4. Data cleaning if needed."
   ]
  },
  {
   "cell_type": "code",
   "execution_count": null,
   "id": "283d3582",
   "metadata": {},
   "outputs": [],
   "source": []
  }
 ],
 "metadata": {
  "kernelspec": {
   "display_name": "Python 3 (ipykernel)",
   "language": "python",
   "name": "python3"
  },
  "language_info": {
   "codemirror_mode": {
    "name": "ipython",
    "version": 3
   },
   "file_extension": ".py",
   "mimetype": "text/x-python",
   "name": "python",
   "nbconvert_exporter": "python",
   "pygments_lexer": "ipython3",
   "version": "3.11.4"
  }
 },
 "nbformat": 4,
 "nbformat_minor": 5
}
